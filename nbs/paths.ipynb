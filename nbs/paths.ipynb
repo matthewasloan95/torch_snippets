{
 "cells": [
  {
   "cell_type": "raw",
   "metadata": {},
   "source": [
    "# Paths\n",
    "Utilities to manipulate Paths\n",
    "---\n",
    "{}\n",
    "---"
   ]
  },
  {
   "cell_type": "code",
   "execution_count": 1,
   "metadata": {},
   "outputs": [],
   "source": [
    "# | default_exp paths\n",
    "# %reload_ext nb_black\n",
    "%reload_ext autoreload\n",
    "%autoreload 2"
   ]
  },
  {
   "cell_type": "code",
   "execution_count": 2,
   "metadata": {},
   "outputs": [],
   "source": [
    "# | export\n",
    "# | hide\n",
    "from fastcore.basics import patch_to\n",
    "from fastcore.foundation import L\n",
    "from pathlib import Path\n",
    "from functools import wraps\n",
    "from torch_snippets.loader import (\n",
    "    choose as ts_choose,\n",
    "    Tqdm,\n",
    "    os,\n",
    "    logger,\n",
    "    Info,\n",
    "    Debug,\n",
    "    Warn,\n",
    "    Excep,\n",
    "    common,\n",
    ")\n",
    "from functools import lru_cache\n",
    "import hashlib, shutil\n",
    "from collections import defaultdict\n",
    "import glob, json\n",
    "import dill, time\n",
    "import subprocess\n",
    "import shutil"
   ]
  },
  {
   "cell_type": "code",
   "execution_count": 3,
   "metadata": {},
   "outputs": [],
   "source": [
    "# | export\n",
    "# | hide\n",
    "def input_to_str(func):\n",
    "    @wraps(func)\n",
    "    def inner(input, *args, **kwargs):\n",
    "        if isinstance(input, P):\n",
    "            input = str(input)\n",
    "        if isinstance(input, list):\n",
    "            input = [str(i) for i in input]\n",
    "        out = func(input, *args, **kwargs)\n",
    "        return out\n",
    "\n",
    "    return inner\n",
    "\n",
    "\n",
    "def output_to_path(func):\n",
    "    @wraps(func)\n",
    "    def inner(input, *args, **kwargs):\n",
    "        out = func(input, *args, **kwargs)\n",
    "        if isinstance(out, str):\n",
    "            out = P(out)\n",
    "        if isinstance(out, list):\n",
    "            if len(out) > 0 and isinstance(out[0], str):\n",
    "                out = [P(o) for o in out]\n",
    "        return out\n",
    "\n",
    "    return inner"
   ]
  },
  {
   "cell_type": "code",
   "execution_count": 4,
   "metadata": {
    "tags": []
   },
   "outputs": [],
   "source": [
    "# | export\n",
    "# | hide\n",
    "def process_f(f):\n",
    "    f = f.replace(\"-\", \"_\").replace(\".\", \"__\")\n",
    "    if f[0].isdigit():\n",
    "        f = \"_\" + f\n",
    "\n",
    "    return f\n",
    "\n",
    "\n",
    "@lru_cache()\n",
    "def get_fs(fldr):\n",
    "    fldr = P(fldr)\n",
    "    __fs = {f: stem(f) for f in fldr.ls()}\n",
    "    _fs = defaultdict(list)\n",
    "    for f, sf in __fs.items():\n",
    "        _fs[sf].append(f)\n",
    "    fs = {}\n",
    "    for f, sfs in _fs.items():\n",
    "        f = process_f(f)\n",
    "        if len(sfs) == 1:\n",
    "            fs[f] = sfs[0]\n",
    "        else:\n",
    "            for _f in sfs:\n",
    "                fs[f\"{f}__{_f.extn()}\"] = _f\n",
    "    return fs\n",
    "\n",
    "\n",
    "valid_methods = dir(Path) + [\"isfile\"]\n",
    "\n",
    "\n",
    "class P0(Path):\n",
    "    try:\n",
    "        from pathlib import _PosixFlavour, _WindowsFlavour\n",
    "\n",
    "        _flavour = _PosixFlavour() if os.name == \"posix\" else _WindowsFlavour()\n",
    "    except ImportError:\n",
    "        pass\n",
    "\n",
    "    def __new__(cls, *pathsegments):\n",
    "        o = super().__new__(cls, *pathsegments)\n",
    "        return o\n",
    "\n",
    "    def __init__(self, *args, **kwargs):\n",
    "        return super().__init__()\n",
    "\n",
    "    @property\n",
    "    @lru_cache()\n",
    "    def isfile(self):\n",
    "        return self.is_file()\n",
    "\n",
    "    def ls(self):\n",
    "        return L(self.iterdir())\n",
    "\n",
    "    def extn(self, pattern=\"*\"):\n",
    "        return self.suffix.replace(\".\", \"\")\n",
    "\n",
    "    def __getattr__(self, name):\n",
    "        if name in valid_methods or self.isfile or self.exists():\n",
    "            raise AttributeError(\n",
    "                f\"'{self.__class__.__name__}' object has no attribute '{name}'\"\n",
    "            )\n",
    "\n",
    "        fs = get_fs(self)\n",
    "        if name in fs:\n",
    "            return fs[name]\n",
    "        else:\n",
    "            raise AttributeError(\n",
    "                f\"'{self.__class__.__name__}' object has no attribute '{name}'\"\n",
    "            )\n",
    "\n",
    "\n",
    "P = Path\n",
    "\n",
    "\n",
    "@patch_to(P)\n",
    "def Glob(self, pattern=\"*\"):\n",
    "    return L(self.glob(pattern))\n",
    "\n",
    "\n",
    "def stem(fpath):\n",
    "    return P(fpath).stem\n",
    "\n",
    "\n",
    "@input_to_str\n",
    "def stems(folder, silent=False):\n",
    "    if isinstance(folder, (str, P)):\n",
    "        return L([stem(str(x)) for x in Glob(folder, silent=silent)])\n",
    "    if isinstance(folder, list):\n",
    "        return L([stem(x) for x in folder])\n",
    "\n",
    "\n",
    "P.stems = lambda self: stems(self.ls())\n",
    "ls = lambda self: L(self.iterdir())\n",
    "P.__repr__ = lambda self: f\"» {self}\"\n",
    "P.__og_dir__ = P.__dir__\n",
    "\n",
    "\n",
    "@patch_to(P)\n",
    "def __dir__(self):\n",
    "    if self.isfile:\n",
    "        return self.__og_dir__()\n",
    "    fs = get_fs(self)\n",
    "    return self.__og_dir__() + list(fs.keys())"
   ]
  },
  {
   "cell_type": "code",
   "execution_count": 5,
   "metadata": {},
   "outputs": [
    {
     "name": "stdout",
     "output_type": "stream",
     "text": [
      "[» _quarto.yml, » decorators.ipynb, » markups.ipynb, » sidebar.yml, » AttrDict.ipynb, » interactive_show.ipynb, » load_defautls.ipynb, » sklegos.ipynb, » bounding_boxes.ipynb, » show.ipynb, » pdf.ipynb, » charts.ipynb, » paths.ipynb, » nbdev.yml, » tmp.csv, » jupyter_notebook.ipynb, » config.ipynb, » misc.ipynb, » registry.ipynb, » adapters.ipynb, » report.ipynb, » .ipynb_checkpoints, » capsule.ipynb, » logging.ipynb, » inspector.ipynb, » bokeh_plotting.ipynb, » index.ipynb, » imgaug_loader.ipynb]\n",
      "/Users/yeshwanth/Code/Personal/torch_snippets/nbs\n"
     ]
    }
   ],
   "source": [
    "print(P().ls())\n",
    "print(P().resolve())"
   ]
  },
  {
   "cell_type": "code",
   "execution_count": 6,
   "metadata": {
    "scrolled": true
   },
   "outputs": [],
   "source": [
    "# !touch tmp.txt tmp.csv\n",
    "# # x = P()\n",
    "# x.tmp__csv, x.tmp__txt, x.misc"
   ]
  },
  {
   "cell_type": "code",
   "execution_count": 7,
   "metadata": {},
   "outputs": [
    {
     "name": "stdout",
     "output_type": "stream",
     "text": [
      "rm: tmp.txt: No such file or directory\n",
      "rm: tmp.misc: No such file or directory\n"
     ]
    }
   ],
   "source": [
    "!rm tmp.txt tmp.misc"
   ]
  },
  {
   "cell_type": "code",
   "execution_count": 8,
   "metadata": {
    "tags": []
   },
   "outputs": [],
   "source": [
    "# | export\n",
    "@patch_to(P)\n",
    "def rmtree(self, prompt=\"Really remove `{self}` and its contents? [y/n] \", force=False):\n",
    "    if force:\n",
    "        shutil.rmtree(self)\n",
    "    elif prompt and input(prompt.format(self=self)).lower() == \"y\":\n",
    "        shutil.rmtree(self)\n",
    "    else:\n",
    "        raise OSError(f\"{self} exists and is not empty\")\n",
    "\n",
    "\n",
    "@patch_to(P)\n",
    "def size(self):\n",
    "    if self.is_dir():\n",
    "        raise Exception(f\"`{self}` is a directory\")\n",
    "    fsize = os.path.getsize(self) >> 20\n",
    "    fsize = f\"{fsize} MB\" if fsize > 0 else f\"{os.path.getsize(self) >> 10} KB\"\n",
    "    return fsize\n",
    "\n",
    "\n",
    "@patch_to(P, as_prop=True)\n",
    "def sz(self):\n",
    "    return self.size()\n",
    "\n",
    "\n",
    "@patch_to(P, as_prop=True)\n",
    "def extn(self):\n",
    "    return self.suffix.replace(\".\", \"\")\n",
    "\n",
    "\n",
    "def extn(fpath):\n",
    "    return P(fpath).extn\n",
    "\n",
    "\n",
    "@patch_to(P)\n",
    "def sample(self, pattern=\"*\"):\n",
    "    return ts_choose(self.Glob(pattern))\n",
    "\n",
    "\n",
    "@patch_to(P)\n",
    "def mv(self, to):\n",
    "    os.rename(self, to)\n",
    "    return P(to)\n",
    "\n",
    "\n",
    "@patch_to(P)\n",
    "def cp(self, to):\n",
    "    return P(shutil.copy(self, to))\n",
    "\n",
    "\n",
    "def remove_file(self, dry_run):\n",
    "    if dry_run:\n",
    "        print(f\"DRY RUN: Removing {self}\")\n",
    "    else:\n",
    "        os.remove(self)\n",
    "\n",
    "\n",
    "@patch_to(P)\n",
    "def rm(\n",
    "    self,\n",
    "    confirm_prompt=\"Are you sure you want to delete `{self}`? [y/N]\",\n",
    "    silent=True,\n",
    "    missing_ok=True,\n",
    "    force=False,\n",
    "    dry_run=False,\n",
    "):\n",
    "    confirm = (\n",
    "        input(confirm_prompt.format(self=self))\n",
    "        if (confirm_prompt and not force)\n",
    "        else \"y\"\n",
    "    )\n",
    "    if confirm.lower() == \"y\":\n",
    "        if missing_ok:\n",
    "            try:\n",
    "                remove_file(self, dry_run)\n",
    "            except:\n",
    "                ...\n",
    "        else:\n",
    "            remove_file(self, dry_run)\n",
    "        if not silent:\n",
    "            logger.info(f\"Deleted {self}\")\n",
    "    else:\n",
    "        if not silent:\n",
    "            logger.info(f\"Aborting delete: {self}\")"
   ]
  },
  {
   "cell_type": "code",
   "execution_count": 9,
   "metadata": {},
   "outputs": [
    {
     "data": {
      "text/html": [
       "<pre style=\"white-space:pre;overflow-x:auto;line-height:normal;font-family:Menlo,'DejaVu Sans Mono',consolas,'Courier New',monospace\"><span style=\"color: #7fbfbf; text-decoration-color: #7fbfbf\">[08/24/24 11:12:12] </span><span style=\"color: #bfbf7f; text-decoration-color: #bfbf7f\">INFO    </span> <span style=\"color: #008080; text-decoration-color: #008080; font-weight: bold\">0</span> KB                                                                                                                   <a href=\"file:///var/folders/1_/71dqv9vx2750gmyz77q_f45w0000gn/T/ipykernel_40147/1417366103.py:3\" target=\"_blank\"><span style=\"color: #7f7f7f; text-decoration-color: #7f7f7f\">1417366103.py</span></a><span style=\"color: #7f7f7f; text-decoration-color: #7f7f7f\">:</span><a href=\"file:///var/folders/1_/71dqv9vx2750gmyz77q_f45w0000gn/T/ipykernel_40147/1417366103.py:3#<module>:3\" target=\"_blank\"><span style=\"color: #7f7f7f; text-decoration-color: #7f7f7f\">&lt;module&gt;:3</span></a>\n",
       "</pre>\n"
      ],
      "text/plain": [
       "\u001b[2;36m[08/24/24 11:12:12]\u001b[0m\u001b[2;36m \u001b[0m\u001b[2;33mINFO    \u001b[0m \u001b[1;36m0\u001b[0m KB                                                                                                                   \u001b]8;id=830137;file:///var/folders/1_/71dqv9vx2750gmyz77q_f45w0000gn/T/ipykernel_40147/1417366103.py:3\u001b\\\u001b[2m1417366103.py\u001b[0m\u001b]8;;\u001b\\\u001b[2m:\u001b[0m\u001b]8;id=397950;file:///var/folders/1_/71dqv9vx2750gmyz77q_f45w0000gn/T/ipykernel_40147/1417366103.py:3#<module>:3\u001b\\\u001b[2m<module>:3\u001b[0m\u001b]8;;\u001b\\\n"
      ]
     },
     "metadata": {},
     "output_type": "display_data"
    }
   ],
   "source": [
    "p = P(\"test.txt\")\n",
    "p.touch()\n",
    "logger.info(p.size())"
   ]
  },
  {
   "cell_type": "markdown",
   "metadata": {},
   "source": [
    "Path objects can be moved and copied"
   ]
  },
  {
   "cell_type": "code",
   "execution_count": 10,
   "metadata": {
    "tags": []
   },
   "outputs": [],
   "source": [
    "p = p.mv(\"test1.txt\")\n",
    "q = p.cp(\"test2.txt\")"
   ]
  },
  {
   "cell_type": "markdown",
   "metadata": {},
   "source": [
    "Path objects have a `size`, `extn` (extension) and `parent` attributes"
   ]
  },
  {
   "cell_type": "code",
   "execution_count": 11,
   "metadata": {},
   "outputs": [],
   "source": [
    "assert isinstance(q, P)\n",
    "assert q.size() == \"0 KB\"\n",
    "assert str(p) == \"test1.txt\"\n",
    "assert p.extn == \"txt\"\n",
    "assert p.parent == P()"
   ]
  },
  {
   "cell_type": "markdown",
   "metadata": {},
   "source": [
    "They can be deleted with/without a prompt"
   ]
  },
  {
   "cell_type": "code",
   "execution_count": 12,
   "metadata": {},
   "outputs": [],
   "source": [
    "p.rm(force=True)\n",
    "q.rm(confirm_prompt=False)"
   ]
  },
  {
   "cell_type": "markdown",
   "metadata": {},
   "source": [
    "Folders can be globbed with a default of everything"
   ]
  },
  {
   "cell_type": "code",
   "execution_count": 13,
   "metadata": {},
   "outputs": [
    {
     "data": {
      "text/plain": [
       "(#34) [» ../torch_snippets/misc.py,» ../torch_snippets/load_defaults.py,» ../torch_snippets/text_utils.py,» ../torch_snippets/_nbdev.py,» ../torch_snippets/paths.py,» ../torch_snippets/charts.py,» ../torch_snippets/pdf_loader.py,» ../torch_snippets/interactive_show.py,» ../torch_snippets/registry.py,» ../torch_snippets/markup2.py,» ../torch_snippets/_modidx.py,» ../torch_snippets/inspector.py,» ../torch_snippets/__init__.py,» ../torch_snippets/tmp.py,» ../torch_snippets/torch_loader.py,» ../torch_snippets/logger.py,» ../torch_snippets/markup.py,» ../torch_snippets/fastcores.py,» ../torch_snippets/sklegos.py,» ../torch_snippets/cli.py...]"
      ]
     },
     "execution_count": 13,
     "metadata": {},
     "output_type": "execute_result"
    }
   ],
   "source": [
    "p = P(\"../torch_snippets\")\n",
    "assert P().ls() == P().Glob()\n",
    "p.Glob(\"*.py\")"
   ]
  },
  {
   "cell_type": "markdown",
   "metadata": {},
   "source": [
    "You can sample a random file from the directory"
   ]
  },
  {
   "cell_type": "code",
   "execution_count": 14,
   "metadata": {},
   "outputs": [
    {
     "data": {
      "text/html": [
       "<pre style=\"white-space:pre;overflow-x:auto;line-height:normal;font-family:Menlo,'DejaVu Sans Mono',consolas,'Courier New',monospace\"><span style=\"color: #7fbfbf; text-decoration-color: #7fbfbf\">                    </span><span style=\"color: #bfbf7f; text-decoration-color: #bfbf7f\">INFO    </span> Sample file: `..<span style=\"color: #800080; text-decoration-color: #800080\">/torch_snippets/</span><span style=\"color: #ff00ff; text-decoration-color: #ff00ff\">logger.py</span>`                                                                             <a href=\"file:///var/folders/1_/71dqv9vx2750gmyz77q_f45w0000gn/T/ipykernel_40147/1725593160.py:2\" target=\"_blank\"><span style=\"color: #7f7f7f; text-decoration-color: #7f7f7f\">1725593160.py</span></a><span style=\"color: #7f7f7f; text-decoration-color: #7f7f7f\">:</span><a href=\"file:///var/folders/1_/71dqv9vx2750gmyz77q_f45w0000gn/T/ipykernel_40147/1725593160.py:2#<module>:2\" target=\"_blank\"><span style=\"color: #7f7f7f; text-decoration-color: #7f7f7f\">&lt;module&gt;:2</span></a>\n",
       "</pre>\n"
      ],
      "text/plain": [
       "\u001b[2;36m                   \u001b[0m\u001b[2;36m \u001b[0m\u001b[2;33mINFO    \u001b[0m Sample file: `..\u001b[35m/torch_snippets/\u001b[0m\u001b[95mlogger.py\u001b[0m`                                                                             \u001b]8;id=885139;file:///var/folders/1_/71dqv9vx2750gmyz77q_f45w0000gn/T/ipykernel_40147/1725593160.py:2\u001b\\\u001b[2m1725593160.py\u001b[0m\u001b]8;;\u001b\\\u001b[2m:\u001b[0m\u001b]8;id=225317;file:///var/folders/1_/71dqv9vx2750gmyz77q_f45w0000gn/T/ipykernel_40147/1725593160.py:2#<module>:2\u001b\\\u001b[2m<module>:2\u001b[0m\u001b]8;;\u001b\\\n"
      ]
     },
     "metadata": {},
     "output_type": "display_data"
    },
    {
     "data": {
      "text/html": [
       "<pre style=\"white-space:pre;overflow-x:auto;line-height:normal;font-family:Menlo,'DejaVu Sans Mono',consolas,'Courier New',monospace\"><span style=\"color: #7fbfbf; text-decoration-color: #7fbfbf\">                    </span><span style=\"color: #bfbf7f; text-decoration-color: #bfbf7f\">INFO    </span> Sample file size: `<span style=\"color: #008080; text-decoration-color: #008080; font-weight: bold\">9</span> KB`                                                                                               <a href=\"file:///var/folders/1_/71dqv9vx2750gmyz77q_f45w0000gn/T/ipykernel_40147/1725593160.py:3\" target=\"_blank\"><span style=\"color: #7f7f7f; text-decoration-color: #7f7f7f\">1725593160.py</span></a><span style=\"color: #7f7f7f; text-decoration-color: #7f7f7f\">:</span><a href=\"file:///var/folders/1_/71dqv9vx2750gmyz77q_f45w0000gn/T/ipykernel_40147/1725593160.py:3#<module>:3\" target=\"_blank\"><span style=\"color: #7f7f7f; text-decoration-color: #7f7f7f\">&lt;module&gt;:3</span></a>\n",
       "</pre>\n"
      ],
      "text/plain": [
       "\u001b[2;36m                   \u001b[0m\u001b[2;36m \u001b[0m\u001b[2;33mINFO    \u001b[0m Sample file size: `\u001b[1;36m9\u001b[0m KB`                                                                                               \u001b]8;id=350834;file:///var/folders/1_/71dqv9vx2750gmyz77q_f45w0000gn/T/ipykernel_40147/1725593160.py:3\u001b\\\u001b[2m1725593160.py\u001b[0m\u001b]8;;\u001b\\\u001b[2m:\u001b[0m\u001b]8;id=367180;file:///var/folders/1_/71dqv9vx2750gmyz77q_f45w0000gn/T/ipykernel_40147/1725593160.py:3#<module>:3\u001b\\\u001b[2m<module>:3\u001b[0m\u001b]8;;\u001b\\\n"
      ]
     },
     "metadata": {},
     "output_type": "display_data"
    }
   ],
   "source": [
    "q = p.sample(\"*.py\")\n",
    "Info(f\"Sample file: `{q}`\")\n",
    "Info(f\"Sample file size: `{q.size()}`\")"
   ]
  },
  {
   "cell_type": "code",
   "execution_count": 15,
   "metadata": {},
   "outputs": [
    {
     "data": {
      "text/html": [
       "<pre style=\"white-space:pre;overflow-x:auto;line-height:normal;font-family:Menlo,'DejaVu Sans Mono',consolas,'Courier New',monospace\"><span style=\"color: #7fbfbf; text-decoration-color: #7fbfbf\">                    </span><span style=\"color: #bf7f7f; text-decoration-color: #bf7f7f\">WARNING </span> `..<span style=\"color: #800080; text-decoration-color: #800080\">/</span><span style=\"color: #ff00ff; text-decoration-color: #ff00ff\">torch_snippets</span>` is a directory                                                                                     <a href=\"file:///var/folders/1_/71dqv9vx2750gmyz77q_f45w0000gn/T/ipykernel_40147/1980994904.py:4\" target=\"_blank\"><span style=\"color: #7f7f7f; text-decoration-color: #7f7f7f\">1980994904.py</span></a><span style=\"color: #7f7f7f; text-decoration-color: #7f7f7f\">:</span><a href=\"file:///var/folders/1_/71dqv9vx2750gmyz77q_f45w0000gn/T/ipykernel_40147/1980994904.py:4#<module>:4\" target=\"_blank\"><span style=\"color: #7f7f7f; text-decoration-color: #7f7f7f\">&lt;module&gt;:4</span></a>\n",
       "</pre>\n"
      ],
      "text/plain": [
       "\u001b[2;36m                   \u001b[0m\u001b[2;36m \u001b[0m\u001b[2;31mWARNING \u001b[0m `..\u001b[35m/\u001b[0m\u001b[95mtorch_snippets\u001b[0m` is a directory                                                                                     \u001b]8;id=875372;file:///var/folders/1_/71dqv9vx2750gmyz77q_f45w0000gn/T/ipykernel_40147/1980994904.py:4\u001b\\\u001b[2m1980994904.py\u001b[0m\u001b]8;;\u001b\\\u001b[2m:\u001b[0m\u001b]8;id=635052;file:///var/folders/1_/71dqv9vx2750gmyz77q_f45w0000gn/T/ipykernel_40147/1980994904.py:4#<module>:4\u001b\\\u001b[2m<module>:4\u001b[0m\u001b]8;;\u001b\\\n"
      ]
     },
     "metadata": {},
     "output_type": "display_data"
    }
   ],
   "source": [
    "try:\n",
    "    p.size()\n",
    "except Exception as e:\n",
    "    logger.warning(e)"
   ]
  },
  {
   "cell_type": "code",
   "execution_count": null,
   "metadata": {
    "tags": []
   },
   "outputs": [],
   "source": [
    "# | export\n",
    "# | hide\n",
    "def isdir(fpath):\n",
    "    return os.path.isdir(fpath)\n",
    "\n",
    "\n",
    "def current_file_dir():\n",
    "    \"\"\"This is not current working directory but the directory of the file where this function is called\"\"\"\n",
    "    return P(__file__).parent\n",
    "\n",
    "\n",
    "@input_to_str\n",
    "def makedir(x, prompt=False, silent=True):\n",
    "    create = input(f\"Creating folder {x}. Are you sure? [y/n]\") if prompt else \"y\"\n",
    "    if create:\n",
    "        os.makedirs(x, exist_ok=True)\n",
    "    if not silent:\n",
    "        Info(f\"Created folder {x}\")\n",
    "\n",
    "\n",
    "@input_to_str\n",
    "def fname(fpath):\n",
    "    return fpath.split(\"/\")[-1]\n",
    "\n",
    "\n",
    "@input_to_str\n",
    "def fname2(fpath):\n",
    "    return stem(fpath.split(\"/\")[-1])\n",
    "\n",
    "\n",
    "@input_to_str\n",
    "@output_to_path\n",
    "def parent(fpath):\n",
    "    out = \"/\".join(fpath.split(\"/\")[:-1])\n",
    "    if out == \"\":\n",
    "        return \"./\"\n",
    "    else:\n",
    "        return out\n",
    "\n",
    "\n",
    "@input_to_str\n",
    "@output_to_path\n",
    "def Glob(x, extns=None, silent=False):\n",
    "    files = glob.glob(x + \"/*\") if \"*\" not in x else glob.glob(x)\n",
    "    if extns:\n",
    "        if isinstance(extns, str):\n",
    "            extns = extns.split(\",\")\n",
    "        files = [f for f in files if any([f.endswith(ext) for ext in extns])]\n",
    "\n",
    "    # if not silent: logger.opt(depth=1).log('INFO', '{} files found at {}'.format(len(files), x))\n",
    "    return files\n",
    "\n",
    "\n",
    "def find(\n",
    "    item=None, List=None, match_stem=False, condition=None, return_indexes_also=False\n",
    "):\n",
    "    \"\"\"Find an `item` in a `List`\n",
    "    >>> find('abc', ['ijk','asdfs','dfsabcdsf','lmnop'])\n",
    "    'dgsabcdsf'\n",
    "    >>> find('file1', ['/tmp/file0.jpg', '/tmp/file0.png', '/tmp/file1.jpg', '/tmp/file1.png', '/tmp/file2.jpg', '/tmp/file2.png'])\n",
    "    ['/tmp/file1.jpg', '/tmp/file1.png']\n",
    "    \"\"\"\n",
    "    if callable(condition):\n",
    "        filtered = [(ix, i) for ix, i in enumerate(List) if condition(i)]\n",
    "\n",
    "    else:\n",
    "        filtered = [(ix, i) for ix, i in enumerate(List) if item in str(i)]\n",
    "\n",
    "    if match_stem and len(filtered) > 1:\n",
    "        filtered = [(ix, f) for ix, f in filtered if stem(f) == item]\n",
    "\n",
    "    if len(filtered) == 1:\n",
    "        if return_indexes_also:\n",
    "            return filtered[0]\n",
    "        else:\n",
    "            return filtered[0][1]\n",
    "    elif len(filtered) == 0:\n",
    "        return None\n",
    "    else:\n",
    "        ixs, filtered_items = list(zip(*filtered))\n",
    "        if return_indexes_also:\n",
    "            return ixs, filtered_items\n",
    "        else:\n",
    "            return filtered_items"
   ]
  },
  {
   "cell_type": "code",
   "execution_count": 17,
   "metadata": {
    "tags": []
   },
   "outputs": [
    {
     "name": "stdout",
     "output_type": "stream",
     "text": [
      "capsule.ipynb\n"
     ]
    }
   ],
   "source": [
    "p = P(\"test.txt\")\n",
    "p.touch()\n",
    "assert isdir(p) == False\n",
    "assert fname(p) == \"test.txt\"\n",
    "assert parent(p) == P()\n",
    "assert stem(p) == \"test\"\n",
    "assert extn(p) == \"txt\"\n",
    "\n",
    "print(find(\"capsule\", Glob(\"./\")))\n",
    "\n",
    "p.rm(confirm_prompt=False)"
   ]
  },
  {
   "cell_type": "code",
   "execution_count": 18,
   "metadata": {
    "tags": []
   },
   "outputs": [],
   "source": [
    "# | export\n",
    "import zipfile\n",
    "import tarfile\n",
    "\n",
    "\n",
    "def zip_files(list_of_files, dest):\n",
    "    dest = str(dest)\n",
    "    logger.info(f\"Zipping {len(list_of_files)} files to {dest}...\")\n",
    "    if dest.lower().endswith(\".zip\"):\n",
    "        with zipfile.ZipFile(dest, \"w\") as zipMe:\n",
    "            for file in Tqdm(list_of_files):\n",
    "                zipMe.write(file, compress_type=zipfile.ZIP_DEFLATED)\n",
    "    elif dest.lower().endswith(\".tar.gz\"):\n",
    "        with tarfile.open(dest, \"w:gz\") as tarMe:\n",
    "            for file in Tqdm(list_of_files):\n",
    "                tarMe.add(file)\n",
    "    return P(dest)\n",
    "\n",
    "\n",
    "def unzip_file(file, dest):\n",
    "    file = str(file)\n",
    "    if file.lower().endswith(\".zip\"):\n",
    "        with zipfile.ZipFile(file, \"r\") as zip_ref:\n",
    "            zip_ref.extractall(dest)\n",
    "    elif file.lower().endswith(\".tar.xz\") or file.endswith(\".tar.gz\"):\n",
    "        with tarfile.open(file, \"r\") as f:\n",
    "            f.extractall(dest)\n",
    "    return P(dest)\n",
    "\n",
    "\n",
    "def list_zip(file):\n",
    "    elements = []\n",
    "    with zipfile.ZipFile(file, \"r\") as zipObj:\n",
    "        listOfiles = zipObj.namelist()\n",
    "        for elem in listOfiles:\n",
    "            elements.append(elem)\n",
    "    return elements"
   ]
  },
  {
   "cell_type": "code",
   "execution_count": 19,
   "metadata": {},
   "outputs": [
    {
     "data": {
      "text/html": [
       "<pre style=\"white-space:pre;overflow-x:auto;line-height:normal;font-family:Menlo,'DejaVu Sans Mono',consolas,'Courier New',monospace\"><span style=\"color: #7fbfbf; text-decoration-color: #7fbfbf\">                    </span><span style=\"color: #bfbf7f; text-decoration-color: #bfbf7f\">INFO    </span> Zipping <span style=\"color: #008080; text-decoration-color: #008080; font-weight: bold\">2</span> files to test.tar.gz<span style=\"color: #808000; text-decoration-color: #808000\">...</span>                                                                                     <a href=\"file:///var/folders/1_/71dqv9vx2750gmyz77q_f45w0000gn/T/ipykernel_40147/3826617683.py:8\" target=\"_blank\"><span style=\"color: #7f7f7f; text-decoration-color: #7f7f7f\">3826617683.py</span></a><span style=\"color: #7f7f7f; text-decoration-color: #7f7f7f\">:</span><a href=\"file:///var/folders/1_/71dqv9vx2750gmyz77q_f45w0000gn/T/ipykernel_40147/3826617683.py:8#zip_files:8\" target=\"_blank\"><span style=\"color: #7f7f7f; text-decoration-color: #7f7f7f\">zip_files:8</span></a>\n",
       "</pre>\n"
      ],
      "text/plain": [
       "\u001b[2;36m                   \u001b[0m\u001b[2;36m \u001b[0m\u001b[2;33mINFO    \u001b[0m Zipping \u001b[1;36m2\u001b[0m files to test.tar.gz\u001b[33m...\u001b[0m                                                                                     \u001b]8;id=907379;file:///var/folders/1_/71dqv9vx2750gmyz77q_f45w0000gn/T/ipykernel_40147/3826617683.py:8\u001b\\\u001b[2m3826617683.py\u001b[0m\u001b]8;;\u001b\\\u001b[2m:\u001b[0m\u001b]8;id=951098;file:///var/folders/1_/71dqv9vx2750gmyz77q_f45w0000gn/T/ipykernel_40147/3826617683.py:8#zip_files:8\u001b\\\u001b[2mzip_files:8\u001b[0m\u001b]8;;\u001b\\\n"
      ]
     },
     "metadata": {},
     "output_type": "display_data"
    },
    {
     "name": "stderr",
     "output_type": "stream",
     "text": [
      "100%|██████████| 2/2 [00:00<00:00, 649.78it/s]\n",
      "/var/folders/1_/71dqv9vx2750gmyz77q_f45w0000gn/T/ipykernel_40147/3826617683.py:27: DeprecationWarning: Python 3.14 will, by default, filter extracted tar archives and reject files or modify their metadata. Use the filter argument to control this behavior.\n",
      "  f.extractall(dest)\n"
     ]
    },
    {
     "data": {
      "text/html": [
       "<pre style=\"white-space:pre;overflow-x:auto;line-height:normal;font-family:Menlo,'DejaVu Sans Mono',consolas,'Courier New',monospace\"><span style=\"color: #7fbfbf; text-decoration-color: #7fbfbf\">                    </span><span style=\"color: #bfbf7f; text-decoration-color: #bfbf7f\">INFO    </span> Zipping <span style=\"color: #008080; text-decoration-color: #008080; font-weight: bold\">2</span> files to test.zip<span style=\"color: #808000; text-decoration-color: #808000\">...</span>                                                                                        <a href=\"file:///var/folders/1_/71dqv9vx2750gmyz77q_f45w0000gn/T/ipykernel_40147/3826617683.py:8\" target=\"_blank\"><span style=\"color: #7f7f7f; text-decoration-color: #7f7f7f\">3826617683.py</span></a><span style=\"color: #7f7f7f; text-decoration-color: #7f7f7f\">:</span><a href=\"file:///var/folders/1_/71dqv9vx2750gmyz77q_f45w0000gn/T/ipykernel_40147/3826617683.py:8#zip_files:8\" target=\"_blank\"><span style=\"color: #7f7f7f; text-decoration-color: #7f7f7f\">zip_files:8</span></a>\n",
       "</pre>\n"
      ],
      "text/plain": [
       "\u001b[2;36m                   \u001b[0m\u001b[2;36m \u001b[0m\u001b[2;33mINFO    \u001b[0m Zipping \u001b[1;36m2\u001b[0m files to test.zip\u001b[33m...\u001b[0m                                                                                        \u001b]8;id=235490;file:///var/folders/1_/71dqv9vx2750gmyz77q_f45w0000gn/T/ipykernel_40147/3826617683.py:8\u001b\\\u001b[2m3826617683.py\u001b[0m\u001b]8;;\u001b\\\u001b[2m:\u001b[0m\u001b]8;id=29273;file:///var/folders/1_/71dqv9vx2750gmyz77q_f45w0000gn/T/ipykernel_40147/3826617683.py:8#zip_files:8\u001b\\\u001b[2mzip_files:8\u001b[0m\u001b]8;;\u001b\\\n"
      ]
     },
     "metadata": {},
     "output_type": "display_data"
    },
    {
     "name": "stderr",
     "output_type": "stream",
     "text": [
      "100%|██████████| 2/2 [00:00<00:00, 2958.94it/s]\n"
     ]
    }
   ],
   "source": [
    "!touch test1.txt test2.txt\n",
    "f = zip_files(P().Glob(\"*.txt\"), \"test.tar.gz\")\n",
    "unzip_file(f, \"./\")\n",
    "[f.rm(force=True) for f in P().Glob(\"*.txt\")]\n",
    "P(\"test.tar.gz\").rm(force=True)\n",
    "\n",
    "!touch test1.txt test2.txt\n",
    "f = zip_files(P().Glob(\"*.txt\"), \"test.zip\")\n",
    "unzip_file(f, \"./\")\n",
    "[f.rm(force=True) for f in P().Glob(\"*.txt\")]\n",
    "P(\"test.zip\").rm(force=True)"
   ]
  },
  {
   "cell_type": "code",
   "execution_count": 20,
   "metadata": {},
   "outputs": [],
   "source": [
    "# | export\n",
    "def md5(fname):\n",
    "    hash_md5 = hashlib.md5()\n",
    "    with open(fname, \"rb\") as f:\n",
    "        for chunk in iter(lambda: f.read(4096), b\"\"):\n",
    "            hash_md5.update(chunk)\n",
    "    return hash_md5.hexdigest()\n",
    "\n",
    "\n",
    "def remove_duplicates(files):\n",
    "    \"\"\"Check a list of files and remove duplicates based on their checksum\"\"\"\n",
    "    import pandas as pd\n",
    "    from torch_snippets.loader import diff\n",
    "\n",
    "    hashes = [md5(f) for f in files]\n",
    "    df = pd.DataFrame({\"f\": files, \"h\": hashes})\n",
    "    x = df.drop_duplicates(\"h\")\n",
    "    y = diff(files, x.f)\n",
    "    for i in y:\n",
    "        os.rename(i, \"./x\")\n",
    "    # !rm ./x\n",
    "    return\n",
    "\n",
    "\n",
    "def common_items(*fldrs, verbose=True):\n",
    "    fldr_items = [stems(fldr) for fldr in fldrs]\n",
    "    o = sorted(common(*fldr_items))\n",
    "    if verbose:\n",
    "        Info(\n",
    "            f\"Returning {len(o)} common items from folders of {[len(_f) for _f in fldr_items]} items each\"\n",
    "        )\n",
    "    return o\n",
    "\n",
    "\n",
    "def folder_summary(thing):\n",
    "    things = Glob(thing)\n",
    "    info = []\n",
    "    for thing in things:\n",
    "        if thing.is_dir():\n",
    "            info.append(f\"{thing} - {len(Glob(thing))} items\")\n",
    "        else:\n",
    "            info.append(f\"{thing} - {thing.size()}\")\n",
    "    return \"\\n\".join(info)\n",
    "\n",
    "\n",
    "print_folder_summary = lambda x: print(folder_summary(x))"
   ]
  },
  {
   "cell_type": "code",
   "execution_count": 21,
   "metadata": {
    "tags": []
   },
   "outputs": [
    {
     "data": {
      "text/plain": [
       "'74eb392fa44e9293fb30ffed68c14112'"
      ]
     },
     "execution_count": 21,
     "metadata": {},
     "output_type": "execute_result"
    }
   ],
   "source": [
    "md5(\"paths.ipynb\")"
   ]
  },
  {
   "cell_type": "code",
   "execution_count": null,
   "metadata": {
    "tags": []
   },
   "outputs": [],
   "source": [
    "# | export\n",
    "def readlines(fpath, silent=False, encoding=None, _strip=True):\n",
    "    with open(fpath, \"r\", encoding=encoding) as f:\n",
    "        lines = f.read().split(\"\\n\")\n",
    "        if _strip:\n",
    "            lines = [l.strip() for l in lines if l.strip() != \"\"]\n",
    "        if not silent:\n",
    "            logger.opt(depth=1).log(\"INFO\", f\"loaded {len(lines)} lines\")\n",
    "        return lines\n",
    "\n",
    "\n",
    "@patch_to(P)\n",
    "def read_lines(self, silent=False, encoding=None):\n",
    "    return readlines(self, silent=silent, encoding=encoding)\n",
    "\n",
    "\n",
    "def readfile(*args, **kwargs):\n",
    "    kwargs.pop(\"_strip\", None)\n",
    "    return \"\\n\".join(readlines(*args, _strip=False, **kwargs)).strip()\n",
    "\n",
    "\n",
    "@patch_to(P)\n",
    "def read_file(self, **kwargs):\n",
    "    return readfile(self, **kwargs)\n",
    "\n",
    "\n",
    "def printfile(*args, **kwargs):\n",
    "    print(readfile(*args, **kwargs))\n",
    "\n",
    "\n",
    "@patch_to(P)\n",
    "def print_file(self, **kwargs):\n",
    "    return print(self.read_file(**kwargs))\n",
    "\n",
    "\n",
    "def writelines(lines, file, mode):\n",
    "    makedir(parent(file))\n",
    "    failed = []\n",
    "    with open(file, mode) as f:\n",
    "        for line in lines:\n",
    "            try:\n",
    "                f.write(f\"{line}\\n\")\n",
    "            except:\n",
    "                failed.append(line)\n",
    "    if failed != []:\n",
    "        logger.opt(depth=1).log(\n",
    "            \"INFO\", f\"Failed to write {len(failed)} lines out of {len(lines)}\"\n",
    "        )\n",
    "        return failed\n",
    "\n",
    "\n",
    "@patch_to(P)\n",
    "def write_lines(self, lines, mode):\n",
    "    return writelines(lines, self, mode)"
   ]
  },
  {
   "cell_type": "code",
   "execution_count": 23,
   "metadata": {},
   "outputs": [
    {
     "data": {
      "text/html": [
       "<pre style=\"white-space:pre;overflow-x:auto;line-height:normal;font-family:Menlo,'DejaVu Sans Mono',consolas,'Courier New',monospace\"><span style=\"color: #7fbfbf; text-decoration-color: #7fbfbf\">                    </span><span style=\"color: #bfbf7f; text-decoration-color: #bfbf7f\">INFO    </span> loaded <span style=\"color: #008080; text-decoration-color: #008080; font-weight: bold\">1075</span> lines                                                                                                   <a href=\"file:///var/folders/1_/71dqv9vx2750gmyz77q_f45w0000gn/T/ipykernel_40147/2901855681.py:13\" target=\"_blank\"><span style=\"color: #7f7f7f; text-decoration-color: #7f7f7f\">2901855681.py</span></a><span style=\"color: #7f7f7f; text-decoration-color: #7f7f7f\">:</span><a href=\"file:///var/folders/1_/71dqv9vx2750gmyz77q_f45w0000gn/T/ipykernel_40147/2901855681.py:13#read_lines:13\" target=\"_blank\"><span style=\"color: #7f7f7f; text-decoration-color: #7f7f7f\">read_lines:13</span></a>\n",
       "</pre>\n"
      ],
      "text/plain": [
       "\u001b[2;36m                   \u001b[0m\u001b[2;36m \u001b[0m\u001b[2;33mINFO    \u001b[0m loaded \u001b[1;36m1075\u001b[0m lines                                                                                                   \u001b]8;id=963649;file:///var/folders/1_/71dqv9vx2750gmyz77q_f45w0000gn/T/ipykernel_40147/2901855681.py:13\u001b\\\u001b[2m2901855681.py\u001b[0m\u001b]8;;\u001b\\\u001b[2m:\u001b[0m\u001b]8;id=662284;file:///var/folders/1_/71dqv9vx2750gmyz77q_f45w0000gn/T/ipykernel_40147/2901855681.py:13#read_lines:13\u001b\\\u001b[2mread_lines:13\u001b[0m\u001b]8;;\u001b\\\n"
      ]
     },
     "metadata": {},
     "output_type": "display_data"
    },
    {
     "data": {
      "text/plain": [
       "['{',\n",
       " '\"cells\": [',\n",
       " '{',\n",
       " '\"cell_type\": \"raw\",',\n",
       " '\"metadata\": {},',\n",
       " '\"source\": [',\n",
       " '\"# Paths\\\\n\",',\n",
       " '\"Utilities to manipulate Paths\\\\n\",',\n",
       " '\"---\\\\n\",',\n",
       " '\"{}\\\\n\",']"
      ]
     },
     "execution_count": 23,
     "metadata": {},
     "output_type": "execute_result"
    }
   ],
   "source": [
    "P(\"paths.ipynb\").read_lines()[:10]"
   ]
  },
  {
   "cell_type": "code",
   "execution_count": 24,
   "metadata": {
    "tags": []
   },
   "outputs": [],
   "source": [
    "# | export\n",
    "def tree(directory=\"./\", filelimit=50, to=None):\n",
    "    from builtins import print\n",
    "\n",
    "    # Construct the shell command\n",
    "    directory = str(P(directory).resolve())\n",
    "    shell_command = f\"tree \\\"{directory}\\\" --filelimit={filelimit} | sed 's/├/ /g; s/└/ /g; s/|/ /g; s/`/ /g; s/│/ /g; s/+/ /g'\"\n",
    "    # Execute the shell command\n",
    "    try:\n",
    "        result = subprocess.run(\n",
    "            shell_command, shell=True, capture_output=True, text=True\n",
    "        )\n",
    "        # Print the output\n",
    "        if to:\n",
    "            writelines(result.stdout.split(\"\\n\"), to, mode=\"w\")\n",
    "        else:\n",
    "            print(result.stdout)\n",
    "    except subprocess.CalledProcessError as e:\n",
    "        print(f\"Error executing command: {e}\")\n",
    "\n",
    "\n",
    "@patch_to(P, as_prop=True)\n",
    "def _tree(self, filelimit=50, to=None):\n",
    "    return tree(self, filelimit, to)\n",
    "\n",
    "\n",
    "P.tree = P._tree"
   ]
  },
  {
   "cell_type": "code",
   "execution_count": 25,
   "metadata": {},
   "outputs": [
    {
     "name": "stdout",
     "output_type": "stream",
     "text": [
      "\u001b[1;36m/Users/yeshwanth/Code/Personal/torch_snippets\u001b[0m\n",
      " ── LICENSE\n",
      " ── LICENSE.txt\n",
      " ── MANIFEST\n",
      " ── MANIFEST.in\n",
      " ── Makefile\n",
      " ── README.md\n",
      " ── Screenshot 2022-09-08 at 4.40.18 PM.png\n",
      " ── __module_timing__.py.lprof\n",
      " ── \u001b[1;36m_proc\u001b[0m\n",
      "     ── AttrDict.ipynb\n",
      "     ── _quarto.yml\n",
      "     ── adapters.ipynb\n",
      "     ── bokeh_plotting.ipynb\n",
      "     ── bounding_boxes.ipynb\n",
      "     ── capsule.ipynb\n",
      "     ── charts.ipynb\n",
      "     ── config.ipynb\n",
      "     ── decorators.ipynb\n",
      "     ── \u001b[1;36mdocs\u001b[0m\n",
      "         ── AttrDict.html\n",
      "         ── adapters.html\n",
      "         ── bokeh_plotting.html\n",
      "         ── bounding_boxes.html\n",
      "         ── \u001b[1;36mbounding_boxes_files\u001b[0m\n",
      "             ── \u001b[1;36mfigure-html\u001b[0m\n",
      "                 ── cell-6-output-1.png\n",
      "                 ── cell-7-output-1.png\n",
      "                 ── cell-8-output-1.png\n",
      "                 ── cell-9-output-1.png\n",
      "         ── capsule.html\n",
      "         ── \u001b[1;36mcapsule_files\u001b[0m\n",
      "             ── \u001b[1;36mfigure-html\u001b[0m\n",
      "                 ── cell-6-output-2.png\n",
      "         ── charts.html\n",
      "         ── \u001b[1;36mcharts_files\u001b[0m\n",
      "             ── \u001b[1;36mfigure-html\u001b[0m\n",
      "                 ── cell-7-output-1.png\n",
      "         ── config.html\n",
      "         ── decorators.html\n",
      "         ── imgaug_loader.html\n",
      "         ── \u001b[1;36mimgaug_loader_files\u001b[0m\n",
      "             ── \u001b[1;36mfigure-html\u001b[0m\n",
      "                 ── cell-3-output-1.png\n",
      "                 ── cell-5-output-10.png\n",
      "                 ── cell-5-output-12.png\n",
      "                 ── cell-5-output-14.png\n",
      "                 ── cell-5-output-16.png\n",
      "                 ── cell-5-output-18.png\n",
      "                 ── cell-5-output-2.png\n",
      "                 ── cell-5-output-20.png\n",
      "                 ── cell-5-output-22.png\n",
      "                 ── cell-5-output-4.png\n",
      "                 ── cell-5-output-6.png\n",
      "                 ── cell-5-output-8.png\n",
      "                 ── cell-6-output-1.png\n",
      "                 ── cell-7-output-1.png\n",
      "                 ── cell-8-output-2.png\n",
      "         ── index.html\n",
      "         ── inspector.html\n",
      "         ── interactive_show.html\n",
      "         ── jupyter_notebook.html\n",
      "         ── load_defautls.html\n",
      "         ── logging.html\n",
      "         ── markups.html\n",
      "         ── misc.html\n",
      "         ── paths.html\n",
      "         ── pdf.html\n",
      "         ── registry.html\n",
      "         ── report.html\n",
      "         ── \u001b[1;36mreport_files\u001b[0m\n",
      "             ── \u001b[1;36mfigure-html\u001b[0m\n",
      "                 ── cell-3-output-2.png\n",
      "                 ── cell-5-output-1.png\n",
      "         ── robots.txt\n",
      "         ── search.json\n",
      "         ── show.html\n",
      "         ── \u001b[1;36mshow_files\u001b[0m\n",
      "             ── \u001b[1;36mfigure-html\u001b[0m\n",
      "                 ── cell-2-output-1.png\n",
      "                 ── cell-3-output-1.png\n",
      "                 ── cell-4-output-2.png\n",
      "                 ── cell-4-output-4.png\n",
      "                 ── cell-4-output-6.png\n",
      "                 ── cell-5-output-1.png\n",
      "                 ── cell-8-output-1.png\n",
      "                 ── cell-9-output-1.png\n",
      "         ── \u001b[1;36msite_libs\u001b[0m\n",
      "             ── \u001b[1;36mbootstrap\u001b[0m\n",
      "                 ── bootstrap-icons.css\n",
      "                 ── bootstrap-icons.woff\n",
      "                 ── bootstrap.min.css\n",
      "                 ── bootstrap.min.js\n",
      "             ── \u001b[1;36mclipboard\u001b[0m\n",
      "                 ── clipboard.min.js\n",
      "             ── \u001b[1;36mquarto-html\u001b[0m\n",
      "                 ── anchor.min.js\n",
      "                 ── popper.min.js\n",
      "                 ── quarto-syntax-highlighting.css\n",
      "                 ── quarto.js\n",
      "                 ── tippy.css\n",
      "                 ── tippy.umd.min.js\n",
      "             ── \u001b[1;36mquarto-nav\u001b[0m\n",
      "                 ── headroom.min.js\n",
      "                 ── quarto-nav.js\n",
      "             ── \u001b[1;36mquarto-search\u001b[0m\n",
      "                 ── autocomplete.umd.js\n",
      "                 ── fuse.min.js\n",
      "                 ── quarto-search.js\n",
      "         ── sitemap.xml\n",
      "         ── sklegos.html\n",
      "     ── imgaug_loader.ipynb\n",
      "     ── index.ipynb\n",
      "     ── inspector.ipynb\n",
      "     ── interactive_show.ipynb\n",
      "     ── jupyter_notebook.ipynb\n",
      "     ── load_defautls.ipynb\n",
      "     ── logging.ipynb\n",
      "     ── markups.ipynb\n",
      "     ── misc.ipynb\n",
      "     ── nbdev.yml\n",
      "     ── paths.ipynb\n",
      "     ── pdf.ipynb\n",
      "     ── registry.ipynb\n",
      "     ── report.ipynb\n",
      "     ── show.ipynb\n",
      "     ── sidebar.yml\n",
      "     ── sklegos.ipynb\n",
      "     ── test.txt\n",
      "     ── test1.txt\n",
      "     ── test2.txt\n",
      "     ── tmp.csv\n",
      "     ── tmp.txt\n",
      " ── \u001b[1;36massets\u001b[0m\n",
      "     ── Preamble.csv\n",
      "     ── Preamble.png\n",
      "     ── avgs0.png\n",
      "     ── avgs1.png\n",
      "     ── demo.gif\n",
      " ── \u001b[1;36mbackups\u001b[0m\n",
      "     ── \u001b[1;36mtesting\u001b[0m\n",
      "         ── 0000.html\n",
      " ── \u001b[1;36mbuild\u001b[0m\n",
      "     ── \u001b[1;36mbdist.macosx-11.1-arm64\u001b[0m\n",
      "     ── \u001b[1;36mlib\u001b[0m\n",
      "         ── \u001b[1;36mtorch_snippets\u001b[0m\n",
      "             ── __init__.py\n",
      "             ── __module_timing__.py\n",
      "             ── _modidx.py\n",
      "             ── _nbdev.py\n",
      "             ── adapters.py\n",
      "             ── bb_utils.py\n",
      "             ── bokeh_loader.py\n",
      "             ── charts.py\n",
      "             ── cli.py\n",
      "             ── dates.py\n",
      "             ── decorators.py\n",
      "             ── fastcores.py\n",
      "             ── icecream.py\n",
      "             ── imgaug_loader.py\n",
      "             ── inspector.py\n",
      "             ── interactive_show.py\n",
      "             ── ipython.py\n",
      "             ── load_defaults.py\n",
      "             ── loader.py\n",
      "             ── logger.py\n",
      "             ── markup.py\n",
      "             ── markup2.py\n",
      "             ── misc.py\n",
      "             ── paths.py\n",
      "             ── pdf_loader.py\n",
      "             ── registry.py\n",
      "             ── s3_loader.py\n",
      "             ── scp.py\n",
      "             ── sklegos.py\n",
      "             ── text_utils.py\n",
      "             ── \u001b[1;36mthinc_parser\u001b[0m\n",
      "                 ── __init__.py\n",
      "                 ── parser.py\n",
      "             ── tmp.py\n",
      "             ── torch_loader.py\n",
      "             ── \u001b[1;36mtrainer\u001b[0m\n",
      "                 ── __init__.py\n",
      "                 ── capsule.py\n",
      "                 ── config.py\n",
      "                 ── hooks.py\n",
      "                 ── neural_graph.py\n",
      "             ── video.py\n",
      "             ── zen.py\n",
      " ── changelog.md\n",
      " ── \u001b[1;36mconda\u001b[0m\n",
      "     ── \u001b[1;36mtorch_snippets\u001b[0m\n",
      "         ── meta.yaml\n",
      " ── \u001b[1;36mdebug\u001b[0m\n",
      "     ── profile_time.txt\n",
      "     ── profile_time_202408241027.txt\n",
      " ── \u001b[1;36mdist\u001b[0m\n",
      "     ── torch_snippets-0.6.0-py3-none-any.whl\n",
      "     ── torch_snippets-0.6.0.tar.gz\n",
      " ── docker-compose.yml\n",
      " ── \u001b[1;36mdocs\u001b[0m\n",
      "     ── AttrDict.html\n",
      "     ── adapters.html\n",
      "     ── bokeh_plotting.html\n",
      "     ── bounding_boxes.html\n",
      "     ── \u001b[1;36mbounding_boxes_files\u001b[0m\n",
      "         ── \u001b[1;36mfigure-html\u001b[0m\n",
      "             ── cell-6-output-1.png\n",
      "             ── cell-7-output-1.png\n",
      "             ── cell-8-output-1.png\n",
      "             ── cell-9-output-1.png\n",
      "     ── capsule.html\n",
      "     ── \u001b[1;36mcapsule_files\u001b[0m\n",
      "         ── \u001b[1;36mfigure-html\u001b[0m\n",
      "             ── cell-5-output-2.png\n",
      "     ── charts.html\n",
      "     ── \u001b[1;36mcharts_files\u001b[0m\n",
      "         ── \u001b[1;36mfigure-html\u001b[0m\n",
      "             ── cell-7-output-1.png\n",
      "     ── config.html\n",
      "     ── decorators.html\n",
      "     ── imgaug_loader.html\n",
      "     ── \u001b[1;36mimgaug_loader_files\u001b[0m\n",
      "         ── \u001b[1;36mfigure-html\u001b[0m\n",
      "             ── cell-3-output-1.png\n",
      "             ── cell-5-output-10.png\n",
      "             ── cell-5-output-12.png\n",
      "             ── cell-5-output-14.png\n",
      "             ── cell-5-output-16.png\n",
      "             ── cell-5-output-18.png\n",
      "             ── cell-5-output-2.png\n",
      "             ── cell-5-output-20.png\n",
      "             ── cell-5-output-22.png\n",
      "             ── cell-5-output-4.png\n",
      "             ── cell-5-output-6.png\n",
      "             ── cell-5-output-8.png\n",
      "             ── cell-6-output-1.png\n",
      "             ── cell-7-output-1.png\n",
      "             ── cell-8-output-2.png\n",
      "     ── index.html\n",
      "     ── inspector.html\n",
      "     ── interactive_show.html\n",
      "     ── jupyter_notebook.html\n",
      "     ── load_defautls.html\n",
      "     ── logging.html\n",
      "     ── markups.html\n",
      "     ── misc.html\n",
      "     ── paths.html\n",
      "     ── pdf.html\n",
      "     ── registry.html\n",
      "     ── report.html\n",
      "     ── \u001b[1;36mreport_files\u001b[0m\n",
      "         ── \u001b[1;36mfigure-html\u001b[0m\n",
      "             ── cell-3-output-2.png\n",
      "             ── cell-5-output-1.png\n",
      "     ── robots.txt\n",
      "     ── search.json\n",
      "     ── show.html\n",
      "     ── \u001b[1;36mshow_files\u001b[0m\n",
      "         ── \u001b[1;36mfigure-html\u001b[0m\n",
      "             ── cell-2-output-1.png\n",
      "             ── cell-3-output-1.png\n",
      "             ── cell-4-output-2.png\n",
      "             ── cell-4-output-4.png\n",
      "             ── cell-4-output-6.png\n",
      "             ── cell-5-output-1.png\n",
      "             ── cell-8-output-1.png\n",
      "             ── cell-9-output-1.png\n",
      "     ── \u001b[1;36msite_libs\u001b[0m\n",
      "         ── \u001b[1;36mbootstrap\u001b[0m\n",
      "             ── bootstrap-icons.css\n",
      "             ── bootstrap-icons.woff\n",
      "             ── bootstrap.min.css\n",
      "             ── bootstrap.min.js\n",
      "         ── \u001b[1;36mclipboard\u001b[0m\n",
      "             ── clipboard.min.js\n",
      "         ── \u001b[1;36mquarto-html\u001b[0m\n",
      "             ── anchor.min.js\n",
      "             ── popper.min.js\n",
      "             ── quarto-syntax-highlighting.css\n",
      "             ── quarto.js\n",
      "             ── tippy.css\n",
      "             ── tippy.umd.min.js\n",
      "         ── \u001b[1;36mquarto-nav\u001b[0m\n",
      "             ── headroom.min.js\n",
      "             ── quarto-nav.js\n",
      "         ── \u001b[1;36mquarto-search\u001b[0m\n",
      "             ── autocomplete.umd.js\n",
      "             ── fuse.min.js\n",
      "             ── quarto-search.js\n",
      "     ── sitemap.xml\n",
      "     ── sklegos.html\n",
      " ── \u001b[1;36mnbs\u001b[0m\n",
      "     ── AttrDict.ipynb\n",
      "     ── _quarto.yml\n",
      "     ── adapters.ipynb\n",
      "     ── bokeh_plotting.ipynb\n",
      "     ── bounding_boxes.ipynb\n",
      "     ── capsule.ipynb\n",
      "     ── charts.ipynb\n",
      "     ── config.ipynb\n",
      "     ── decorators.ipynb\n",
      "     ── imgaug_loader.ipynb\n",
      "     ── index.ipynb\n",
      "     ── inspector.ipynb\n",
      "     ── interactive_show.ipynb\n",
      "     ── jupyter_notebook.ipynb\n",
      "     ── load_defautls.ipynb\n",
      "     ── logging.ipynb\n",
      "     ── markups.ipynb\n",
      "     ── misc.ipynb\n",
      "     ── nbdev.yml\n",
      "     ── paths.ipynb\n",
      "     ── pdf.ipynb\n",
      "     ── registry.ipynb\n",
      "     ── report.ipynb\n",
      "     ── show.ipynb\n",
      "     ── sidebar.yml\n",
      "     ── sklegos.ipynb\n",
      "     ── tmp.csv\n",
      " ── requirements.txt\n",
      " ── scripts.ipynb\n",
      " ── settings.ini\n",
      " ── setup.cfg\n",
      " ── setup.py\n",
      " ── testing.ipynb\n",
      " ── tmp.ini\n",
      " ── \u001b[1;36mtorch_snippets\u001b[0m\n",
      "     ── __init__.py\n",
      "     ── __module_timing__.py\n",
      "     ── \u001b[1;36m__pycache__\u001b[0m\n",
      "         ── __init__.cpython-312.pyc\n",
      "         ── __module_timing__.cpython-312.pyc\n",
      "         ── bb_utils.cpython-312.pyc\n",
      "         ── bokeh_loader.cpython-312.pyc\n",
      "         ── charts.cpython-312.pyc\n",
      "         ── cli.cpython-312.pyc\n",
      "         ── dates.cpython-312.pyc\n",
      "         ── decorators.cpython-312.pyc\n",
      "         ── icecream.cpython-312.pyc\n",
      "         ── inspector.cpython-312.pyc\n",
      "         ── ipython.cpython-312.pyc\n",
      "         ── load_defaults.cpython-312.pyc\n",
      "         ── loader.cpython-312.pyc\n",
      "         ── logger.cpython-312.pyc\n",
      "         ── markup.cpython-312.pyc\n",
      "         ── markup2.cpython-312.pyc\n",
      "         ── misc.cpython-312.pyc\n",
      "         ── paths.cpython-312.pyc\n",
      "         ── pdf_loader.cpython-312.pyc\n",
      "         ── registry.cpython-312.pyc\n",
      "         ── s3_loader.cpython-312.pyc\n",
      "         ── torch_loader.cpython-312.pyc\n",
      "         ── zen.cpython-312.pyc\n",
      "     ── _modidx.py\n",
      "     ── _nbdev.py\n",
      "     ── adapters.py\n",
      "     ── bb_utils.py\n",
      "     ── bokeh_loader.py\n",
      "     ── charts.py\n",
      "     ── cli.py\n",
      "     ── dates.py\n",
      "     ── decorators.py\n",
      "     ── fastcores.py\n",
      "     ── icecream.py\n",
      "     ── imgaug_loader.py\n",
      "     ── inspector.py\n",
      "     ── interactive_show.py\n",
      "     ── ipython.py\n",
      "     ── load_defaults.py\n",
      "     ── \u001b[31mloader.py\u001b[0m\n",
      "     ── logger.py\n",
      "     ── markup.py\n",
      "     ── markup2.py\n",
      "     ── misc.py\n",
      "     ── paths.py\n",
      "     ── pdf_loader.py\n",
      "     ── registry.py\n",
      "     ── s3_loader.py\n",
      "     ── scp.py\n",
      "     ── sklegos.py\n",
      "     ── text_utils.py\n",
      "     ── \u001b[1;36mthinc_parser\u001b[0m\n",
      "         ── __init__.py\n",
      "         ── \u001b[1;36m__pycache__\u001b[0m\n",
      "             ── __init__.cpython-312.pyc\n",
      "             ── parser.cpython-312.pyc\n",
      "         ── parser.py\n",
      "     ── tmp.py\n",
      "     ── torch_loader.py\n",
      "     ── \u001b[1;36mtrainer\u001b[0m\n",
      "         ── __init__.py\n",
      "         ── \u001b[1;36m__pycache__\u001b[0m\n",
      "             ── __init__.cpython-312.pyc\n",
      "             ── capsule.cpython-312.pyc\n",
      "         ── capsule.py\n",
      "         ── config.py\n",
      "         ── hooks.py\n",
      "         ── neural_graph.py\n",
      "     ── video.py\n",
      "     ── zen.py\n",
      " ── \u001b[1;36mtorch_snippets.egg-info\u001b[0m\n",
      "     ── PKG-INFO\n",
      "     ── SOURCES.txt\n",
      "     ── dependency_links.txt\n",
      "     ── entry_points.txt\n",
      "     ── not-zip-safe\n",
      "     ── requires.txt\n",
      "     ── top_level.txt\n",
      "\n",
      "61 directories, 348 files\n",
      "\n"
     ]
    }
   ],
   "source": [
    "P(\"../\").tree"
   ]
  },
  {
   "cell_type": "code",
   "execution_count": 26,
   "metadata": {
    "tags": []
   },
   "outputs": [],
   "source": [
    "# | export\n",
    "def folder_structure_to_dict(path):\n",
    "    \"\"\"\n",
    "    Recursively constructs a nested dictionary that represents the folder structure.\n",
    "    \"\"\"\n",
    "    folder_dict = {}\n",
    "    with os.scandir(path) as it:\n",
    "        for entry in it:\n",
    "            if entry.is_dir():\n",
    "                folder_dict[entry.name] = folder_structure_to_dict(entry.path)\n",
    "            else:\n",
    "                folder_dict[entry.name] = None\n",
    "    return folder_dict\n",
    "\n",
    "\n",
    "def folder_structure_to_json(path, output_file=None):\n",
    "    \"\"\"\n",
    "    Creates a JSON file representing the folder structure of the given directory.\n",
    "    \"\"\"\n",
    "    path = P(path)\n",
    "    if output_file is None:\n",
    "        output_file = path / \"tree.json\"\n",
    "    folder_dict = folder_structure_to_dict(path)\n",
    "    with open(output_file, \"w\") as f:\n",
    "        json.dump(folder_dict, f, indent=4)"
   ]
  },
  {
   "cell_type": "code",
   "execution_count": 27,
   "metadata": {
    "tags": []
   },
   "outputs": [
    {
     "data": {
      "text/html": [
       "<pre style=\"white-space:pre;overflow-x:auto;line-height:normal;font-family:Menlo,'DejaVu Sans Mono',consolas,'Courier New',monospace\"><span style=\"color: #7fbfbf; text-decoration-color: #7fbfbf\">[08/24/24 11:12:13] </span><span style=\"color: #bfbf7f; text-decoration-color: #bfbf7f\">INFO    </span> loaded <span style=\"color: #008080; text-decoration-color: #008080; font-weight: bold\">1000</span> lines                                                                                                   <a href=\"file:///var/folders/1_/71dqv9vx2750gmyz77q_f45w0000gn/T/ipykernel_40147/2901855681.py:13\" target=\"_blank\"><span style=\"color: #7f7f7f; text-decoration-color: #7f7f7f\">2901855681.py</span></a><span style=\"color: #7f7f7f; text-decoration-color: #7f7f7f\">:</span><a href=\"file:///var/folders/1_/71dqv9vx2750gmyz77q_f45w0000gn/T/ipykernel_40147/2901855681.py:13#read_lines:13\" target=\"_blank\"><span style=\"color: #7f7f7f; text-decoration-color: #7f7f7f\">read_lines:13</span></a>\n",
       "</pre>\n"
      ],
      "text/plain": [
       "\u001b[2;36m[08/24/24 11:12:13]\u001b[0m\u001b[2;36m \u001b[0m\u001b[2;33mINFO    \u001b[0m loaded \u001b[1;36m1000\u001b[0m lines                                                                                                   \u001b]8;id=250917;file:///var/folders/1_/71dqv9vx2750gmyz77q_f45w0000gn/T/ipykernel_40147/2901855681.py:13\u001b\\\u001b[2m2901855681.py\u001b[0m\u001b]8;;\u001b\\\u001b[2m:\u001b[0m\u001b]8;id=777128;file:///var/folders/1_/71dqv9vx2750gmyz77q_f45w0000gn/T/ipykernel_40147/2901855681.py:13#read_lines:13\u001b\\\u001b[2mread_lines:13\u001b[0m\u001b]8;;\u001b\\\n"
      ]
     },
     "metadata": {},
     "output_type": "display_data"
    },
    {
     "data": {
      "text/html": [
       "<pre style=\"white-space:pre;overflow-x:auto;line-height:normal;font-family:Menlo,'DejaVu Sans Mono',consolas,'Courier New',monospace\"><span style=\"color: #7fbfbf; text-decoration-color: #7fbfbf\">                    </span><span style=\"color: #bfbf7f; text-decoration-color: #bfbf7f\">INFO    </span> <span style=\"color: #008080; text-decoration-color: #008080; font-weight: bold\">3</span> KB                                                                                                                   <a href=\"file:///var/folders/1_/71dqv9vx2750gmyz77q_f45w0000gn/T/ipykernel_40147/1033976698.py:6\" target=\"_blank\"><span style=\"color: #7f7f7f; text-decoration-color: #7f7f7f\">1033976698.py</span></a><span style=\"color: #7f7f7f; text-decoration-color: #7f7f7f\">:</span><a href=\"file:///var/folders/1_/71dqv9vx2750gmyz77q_f45w0000gn/T/ipykernel_40147/1033976698.py:6#<module>:6\" target=\"_blank\"><span style=\"color: #7f7f7f; text-decoration-color: #7f7f7f\">&lt;module&gt;:6</span></a>\n",
       "</pre>\n"
      ],
      "text/plain": [
       "\u001b[2;36m                   \u001b[0m\u001b[2;36m \u001b[0m\u001b[2;33mINFO    \u001b[0m \u001b[1;36m3\u001b[0m KB                                                                                                                   \u001b]8;id=311863;file:///var/folders/1_/71dqv9vx2750gmyz77q_f45w0000gn/T/ipykernel_40147/1033976698.py:6\u001b\\\u001b[2m1033976698.py\u001b[0m\u001b]8;;\u001b\\\u001b[2m:\u001b[0m\u001b]8;id=855849;file:///var/folders/1_/71dqv9vx2750gmyz77q_f45w0000gn/T/ipykernel_40147/1033976698.py:6#<module>:6\u001b\\\u001b[2m<module>:6\u001b[0m\u001b]8;;\u001b\\\n"
      ]
     },
     "metadata": {},
     "output_type": "display_data"
    }
   ],
   "source": [
    "x = P(\"tmp.txt\")\n",
    "x.touch()\n",
    "x.write_lines([i for i in range(1000)], mode=\"w\")\n",
    "lines = x.read_lines()\n",
    "assert lines == [f\"{i}\" for i in range(1000)]\n",
    "logger.info(x.size())\n",
    "\n",
    "x.rm(confirm_prompt=False)"
   ]
  },
  {
   "cell_type": "code",
   "execution_count": 28,
   "metadata": {},
   "outputs": [],
   "source": [
    "# | export\n",
    "# | hide\n",
    "def rename_batch(folder, func, debug=False, one_file=False):\n",
    "    from torch_snippets.loader import now\n",
    "\n",
    "    \"V.V.Imp: Use debug=True first to confirm file name changes are as expected\"\n",
    "    if isinstance(folder, (str, P)):\n",
    "        folder = Glob(folder)\n",
    "    sources = []\n",
    "    destins = []\n",
    "    log_file = f\"moved_files_{now()}.log\"\n",
    "    for f in folder:\n",
    "        source = f\n",
    "        destin = func(f)\n",
    "        if source == destin:\n",
    "            continue\n",
    "        if debug:\n",
    "            logger.debug(f\"moving `{source}` --> `{destin}`\")\n",
    "        else:\n",
    "            # !mv {source.replace(' ','\\ ')} {destin.replace(' ','\\ ')}\n",
    "            logger.info(f\"moving `{source}` --> `{destin}`\")\n",
    "            os.rename(source, destin)\n",
    "        # !echo {source.replace(' ','\\ ')} --\\> {destin.replace(' ','\\ ')} >> {logfile}\n",
    "        if one_file:\n",
    "            break"
   ]
  },
  {
   "cell_type": "code",
   "execution_count": 29,
   "metadata": {
    "tags": []
   },
   "outputs": [],
   "source": [
    "# | export\n",
    "dill = dill\n",
    "\n",
    "\n",
    "def dumpdill(\n",
    "    obj,\n",
    "    fpath,\n",
    "    silent=False,\n",
    "    message='Dumped object of size ≈{fsize} @ \"{fpath}\" in {dumptime:.2e} seconds',\n",
    "):\n",
    "    \"\"\"Dump a python object as a dill file (better replacement to pickle)\"\"\"\n",
    "    start = time.time()\n",
    "    fpath = P(fpath)\n",
    "    fpath.parent.mkdir(exist_ok=True, parents=True)\n",
    "    with open(fpath, \"wb\") as f:\n",
    "        dill.dump(obj, f)\n",
    "    dumptime = time.time() - start\n",
    "    if not silent:\n",
    "        fsize = fpath.size()\n",
    "        logger.opt(depth=1).log(\n",
    "            \"INFO\", message.format(fsize=fsize, fpath=fpath, dumptime=dumptime)\n",
    "        )\n",
    "    return P(fpath)\n",
    "\n",
    "\n",
    "def loaddill(fpath):\n",
    "    \"\"\"Load a python object from a dill file\"\"\"\n",
    "    fpath = str(fpath)\n",
    "    with open(fpath, \"rb\") as f:\n",
    "        obj = dill.load(f)\n",
    "    return obj"
   ]
  },
  {
   "cell_type": "code",
   "execution_count": 30,
   "metadata": {
    "tags": []
   },
   "outputs": [
    {
     "data": {
      "text/html": [
       "<pre style=\"white-space:pre;overflow-x:auto;line-height:normal;font-family:Menlo,'DejaVu Sans Mono',consolas,'Courier New',monospace\"><span style=\"color: #7fbfbf; text-decoration-color: #7fbfbf\">                    </span><span style=\"color: #bfbf7f; text-decoration-color: #bfbf7f\">INFO    </span> Dumped object of size ≈<span style=\"color: #008080; text-decoration-color: #008080; font-weight: bold\">0</span> KB @ <span style=\"color: #008000; text-decoration-color: #008000\">\"test.tmp\"</span> in <span style=\"color: #008080; text-decoration-color: #008080; font-weight: bold\">4.11e-04</span> seconds                                                            <a href=\"file:///var/folders/1_/71dqv9vx2750gmyz77q_f45w0000gn/T/ipykernel_40147/554288780.py:2\" target=\"_blank\"><span style=\"color: #7f7f7f; text-decoration-color: #7f7f7f\">554288780.py</span></a><span style=\"color: #7f7f7f; text-decoration-color: #7f7f7f\">:</span><a href=\"file:///var/folders/1_/71dqv9vx2750gmyz77q_f45w0000gn/T/ipykernel_40147/554288780.py:2#<module>:2\" target=\"_blank\"><span style=\"color: #7f7f7f; text-decoration-color: #7f7f7f\">&lt;module&gt;:2</span></a>\n",
       "</pre>\n"
      ],
      "text/plain": [
       "\u001b[2;36m                   \u001b[0m\u001b[2;36m \u001b[0m\u001b[2;33mINFO    \u001b[0m Dumped object of size ≈\u001b[1;36m0\u001b[0m KB @ \u001b[32m\"test.tmp\"\u001b[0m in \u001b[1;36m4.11e-04\u001b[0m seconds                                                            \u001b]8;id=187347;file:///var/folders/1_/71dqv9vx2750gmyz77q_f45w0000gn/T/ipykernel_40147/554288780.py:2\u001b\\\u001b[2m554288780.py\u001b[0m\u001b]8;;\u001b\\\u001b[2m:\u001b[0m\u001b]8;id=958846;file:///var/folders/1_/71dqv9vx2750gmyz77q_f45w0000gn/T/ipykernel_40147/554288780.py:2#<module>:2\u001b\\\u001b[2m<module>:2\u001b[0m\u001b]8;;\u001b\\\n"
      ]
     },
     "metadata": {},
     "output_type": "display_data"
    }
   ],
   "source": [
    "p = P(\"test.tmp\")\n",
    "dumpdill([1, 2, 3], p)\n",
    "y = loaddill(p)\n",
    "p.rm(confirm_prompt=False)\n",
    "assert y == [1, 2, 3]"
   ]
  },
  {
   "cell_type": "code",
   "execution_count": null,
   "metadata": {},
   "outputs": [],
   "source": []
  }
 ],
 "metadata": {
  "kernelspec": {
   "display_name": "base",
   "language": "python",
   "name": "python3"
  },
  "language_info": {
   "codemirror_mode": {
    "name": "ipython",
    "version": 3
   },
   "file_extension": ".py",
   "mimetype": "text/x-python",
   "name": "python",
   "nbconvert_exporter": "python",
   "pygments_lexer": "ipython3",
   "version": "3.12.4"
  }
 },
 "nbformat": 4,
 "nbformat_minor": 4
}
