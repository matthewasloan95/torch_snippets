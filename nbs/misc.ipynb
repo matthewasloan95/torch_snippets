{
 "cells": [
  {
   "cell_type": "markdown",
   "metadata": {},
   "source": [
    "# Miscellaneous"
   ]
  },
  {
   "cell_type": "code",
   "execution_count": 1,
   "metadata": {},
   "outputs": [],
   "source": [
    "# | default_exp misc"
   ]
  },
  {
   "cell_type": "code",
   "execution_count": 2,
   "metadata": {},
   "outputs": [],
   "source": [
    "# | export\n",
    "import time\n",
    "from torch_snippets.logger import Debug, Warn, debug_mode, Info, Trace, trace_mode\n",
    "from torch_snippets.markup2 import AD\n",
    "from functools import wraps\n",
    "from fastcore.basics import ifnone\n",
    "from fastcore.foundation import L"
   ]
  },
  {
   "cell_type": "code",
   "execution_count": null,
   "metadata": {},
   "outputs": [],
   "source": [
    "# | export\n",
    "# | hide\n",
    "\n",
    "\n",
    "class Timer:\n",
    "    def __init__(self, N, smooth=True, mode=1):\n",
    "        \"print elapsed time every iteration and print out remaining time\"\n",
    "        \"assumes this timer is called exactly N times or less\"\n",
    "        self.tok = self.start = time.time()\n",
    "        self.N = N\n",
    "        assert N is None or N >= 0, \"N should be None or a non-negative integer\"\n",
    "        self.ix = 0\n",
    "        self.smooth = smooth\n",
    "        self.mode = mode\n",
    "        # 0 = instant-speed, i.e., time remaining is a funciton of only the last iteration\n",
    "        # Useful when you know that each loop takes unequal time (increasing/decreasing speeds)\n",
    "        # 1 = average, i.e., time remaining is a function of average of all iterations\n",
    "        # Usefule when you know on average each loop or a group of loops take around the same time\n",
    "\n",
    "    def __call__(self, *, ix=None, info=None):\n",
    "        ix = self.ix if ix is None else ix\n",
    "        info = \"\" if info is None else f\"{info}\\t\"\n",
    "        tik = time.time()\n",
    "        elapsed = tik - self.start\n",
    "\n",
    "        _total = self.N if self.N is not None else \"*\"\n",
    "\n",
    "        if self.mode == 0:\n",
    "            ielapsed = tik - self.tok\n",
    "            ispeed = ielapsed\n",
    "            if self.N is not None:\n",
    "                iremaining = (self.N - (ix + 1)) * ispeed\n",
    "            else:\n",
    "                iremaining = -1\n",
    "\n",
    "            iunit = \"s/iter\"\n",
    "            if ispeed < 1:\n",
    "                ispeed = 1 / ispeed\n",
    "                iunit = \"iters/s\"\n",
    "\n",
    "            iestimate = iremaining + elapsed\n",
    "            _remaining = f\"- {iremaining:.2f}s remaining \" if self.N is not None else \"\"\n",
    "\n",
    "            _info = f\"{info}{ix+1}/{_total} ({elapsed:.2f}s {_remaining}- {ispeed:.2f} {iunit})\"\n",
    "\n",
    "        else:\n",
    "            speed = elapsed / (ix + 1)\n",
    "            if self.N is not None:\n",
    "                remaining = (self.N - (ix + 1)) * speed\n",
    "            else:\n",
    "                remaining = -1\n",
    "\n",
    "            unit = \"s/iter\"\n",
    "            if speed < 1:\n",
    "                speed = 1 / speed\n",
    "                unit = \"iters/s\"\n",
    "            estimate = remaining + elapsed\n",
    "            _remaining = f\" - {remaining:.2f}s remaining \" if self.N is not None else \"\"\n",
    "            _info = f\"{info}{ix+1}/{_total} ({elapsed:.2f}s {_remaining}- {speed:.2f} {unit})\"\n",
    "\n",
    "        print(\n",
    "            _info + \" \" * 10,\n",
    "            end=\"\\r\",\n",
    "        )\n",
    "        self.ix += 1\n",
    "        self.tok = tik\n",
    "\n",
    "\n",
    "def track2(iterable, *, total=None, info_prefix=None):\n",
    "    info_prefix = ifnone(info_prefix, \"\")\n",
    "    try:\n",
    "        total = ifnone(total, len(iterable))\n",
    "    except Exception as e:\n",
    "        Warn(f\"Unable to get length of iterable: {e}\")\n",
    "    timer = Timer(total)\n",
    "    for item in iterable:\n",
    "        info = yield item\n",
    "        _info = f\"{info_prefix} {info}\" if info_prefix else info\n",
    "        timer(info=_info)\n",
    "        if info is not None:\n",
    "            yield  # Just to ensure the send operation stops\n"
   ]
  },
  {
   "cell_type": "markdown",
   "metadata": {},
   "source": [
    "## Timer\n",
    "Use timer as a standalone class so you have full control on when to call a lap (most useful in while loops)..."
   ]
  },
  {
   "cell_type": "code",
   "execution_count": 4,
   "metadata": {},
   "outputs": [
    {
     "name": "stdout",
     "output_type": "stream",
     "text": [
      "26/50 (0.32s - 0.30s remaining - 80.72 iters/s)          \n",
      "My Info: 78.05\t50/50 (0.62s - 0.00s remaining - 80.88 iters/s)          \r"
     ]
    }
   ],
   "source": [
    "N = 50\n",
    "t = Timer(N)\n",
    "info = None\n",
    "\n",
    "for i in range(N):\n",
    "    time.sleep(0.01)\n",
    "    t(info=info)  # Lap and present the time\n",
    "    if i == N // 2:\n",
    "        print()\n",
    "        info = f\"My Info: {i*3.122}\""
   ]
  },
  {
   "cell_type": "markdown",
   "metadata": {},
   "source": [
    "## Track2\n",
    "... or use track2 to directly track a for loop"
   ]
  },
  {
   "cell_type": "code",
   "execution_count": 5,
   "metadata": {},
   "outputs": [
    {
     "name": "stdout",
     "output_type": "stream",
     "text": [
      "25/50 (0.30s - 0.30s remaining - 83.74 iters/s)          \n",
      "My Info: 152.98\t50/50 (0.60s - 0.00s remaining - 83.91 iters/s)          \r"
     ]
    }
   ],
   "source": [
    "N = 50\n",
    "info = None\n",
    "\n",
    "for i in (tracker := track2(range(N), total=N)):\n",
    "    time.sleep(0.01)\n",
    "    info = f\"My Info: {i*3.122:.2f}\"\n",
    "    if i == N // 2:\n",
    "        print()\n",
    "    if i >= N // 2:\n",
    "        tracker.send(info)"
   ]
  },
  {
   "cell_type": "markdown",
   "metadata": {},
   "source": [
    "Warning! NEVER RUN `tracker.send(None)` as this will skip variables silently"
   ]
  },
  {
   "cell_type": "code",
   "execution_count": 6,
   "metadata": {},
   "outputs": [
    {
     "data": {
      "image/jpeg": "[encoded data removed]",
      "text/html": [
       "\n",
       "        <iframe\n",
       "            width=\"560\"\n",
       "            height=\"315\"\n",
       "            src=\"https://www.youtube.com/embed/XcU-a-eksMA\"\n",
       "            frameborder=\"0\"\n",
       "            allowfullscreen\n",
       "            \n",
       "        ></iframe>\n",
       "        "
      ],
      "text/plain": [
       "<IPython.lib.display.YouTubeVideo at 0x135677fb0>"
      ]
     },
     "execution_count": 6,
     "metadata": {},
     "output_type": "execute_result"
    }
   ],
   "source": [
    "# | echo: false\n",
    "from IPython.display import YouTubeVideo\n",
    "\n",
    "# Replace 'video_id' with the actual YouTube video ID\n",
    "YouTubeVideo(\"XcU-a-eksMA\", width=560, height=315)"
   ]
  },
  {
   "cell_type": "code",
   "execution_count": 7,
   "metadata": {},
   "outputs": [],
   "source": [
    "# | export\n",
    "# | hide\n",
    "\n",
    "\n",
    "def summarize_input(args, kwargs, outputs=None):\n",
    "    o = AD(args, kwargs)\n",
    "    if outputs is not None:\n",
    "        o.outputs = outputs\n",
    "    return o.summary()\n",
    "\n",
    "\n",
    "def timeit(func):\n",
    "    def inner(*args, **kwargs):\n",
    "        s = time.time()\n",
    "        o = func(*args, **kwargs)\n",
    "        Info(f\"{time.time() - s:.2f} seconds to execute `{func.__name__}`\")\n",
    "        return o\n",
    "\n",
    "    return inner\n",
    "\n",
    "\n",
    "def io(func=None, *, level=\"debug\"):\n",
    "    logfuncs = {\n",
    "        \"debug\": lambda i: Debug(i, depth=2),\n",
    "        \"info\": lambda i: Info(i, depth=2),\n",
    "        \"trace\": lambda i: Trace(i, depth=2),\n",
    "    }\n",
    "    try:\n",
    "        logfunc = logfuncs[level.lower()]\n",
    "    except KeyError:\n",
    "        raise ValueError(f\"level should be one of {list(logfuncs.keys())}\")\n",
    "\n",
    "    def decorator(func):\n",
    "        def inner(*args, **kwargs):\n",
    "            if level == \"trace\":\n",
    "                try:\n",
    "                    from pysnooper import snoop\n",
    "                except ModuleNotFoundError:\n",
    "                    raise ModuleNotFoundError(\n",
    "                        \"`pip install pysnooper` if you want to trace the function line by line\"\n",
    "                    )\n",
    "                _func = snoop()(func)\n",
    "            else:\n",
    "                _func = func\n",
    "            s = time.time()\n",
    "            o = _func(*args, **kwargs)\n",
    "            info = f\"\"\"\n",
    "{time.time() - s:.2f} seconds to execute `{func.__name__}`\n",
    "{summarize_input(args=args, kwargs=kwargs, outputs=o)}\n",
    "            \"\"\"\n",
    "            logfunc(info)\n",
    "            return o\n",
    "\n",
    "        return inner\n",
    "\n",
    "    if func is None:\n",
    "        o = decorator\n",
    "    else:\n",
    "        o = decorator(func)\n",
    "    return o"
   ]
  },
  {
   "cell_type": "markdown",
   "metadata": {},
   "source": [
    "## Print execution time\n",
    "`@timeit` decorates and prints time taken to execute a function as an info log"
   ]
  },
  {
   "cell_type": "code",
   "execution_count": 8,
   "metadata": {},
   "outputs": [],
   "source": [
    "@timeit\n",
    "def foo(a, b=None):\n",
    "    if b is None:\n",
    "        return a + 1\n",
    "    else:\n",
    "        time.sleep(2)\n",
    "        return a + b"
   ]
  },
  {
   "cell_type": "code",
   "execution_count": 9,
   "metadata": {},
   "outputs": [
    {
     "data": {
      "text/html": [
       "<pre style=\"white-space:pre;overflow-x:auto;line-height:normal;font-family:Menlo,'DejaVu Sans Mono',consolas,'Courier New',monospace\"><span style=\"color: #7fbfbf; text-decoration-color: #7fbfbf\">[09/08/24 21:15:23] </span><span style=\"color: #bfbf7f; text-decoration-color: #bfbf7f\">INFO    </span> <span style=\"color: #008080; text-decoration-color: #008080; font-weight: bold\">0.00</span> seconds to execute `foo`                                                                                            <a href=\"file:///var/folders/1_/71dqv9vx2750gmyz77q_f45w0000gn/T/ipykernel_19659/3546464892.py:16\" target=\"_blank\"><span style=\"color: #7f7f7f; text-decoration-color: #7f7f7f\">3546464892.py</span></a><span style=\"color: #7f7f7f; text-decoration-color: #7f7f7f\">:</span><a href=\"file:///var/folders/1_/71dqv9vx2750gmyz77q_f45w0000gn/T/ipykernel_19659/3546464892.py:16#inner:16\" target=\"_blank\"><span style=\"color: #7f7f7f; text-decoration-color: #7f7f7f\">inner:16</span></a>\n",
       "</pre>\n"
      ],
      "text/plain": [
       "\u001b[2;36m[09/08/24 21:15:23]\u001b[0m\u001b[2;36m \u001b[0m\u001b[2;33mINFO    \u001b[0m \u001b[1;36m0.00\u001b[0m seconds to execute `foo`                                                                                            \u001b]8;id=173016;file:///var/folders/1_/71dqv9vx2750gmyz77q_f45w0000gn/T/ipykernel_19659/3546464892.py:16\u001b\\\u001b[2m3546464892.py\u001b[0m\u001b]8;;\u001b\\\u001b[2m:\u001b[0m\u001b]8;id=189927;file:///var/folders/1_/71dqv9vx2750gmyz77q_f45w0000gn/T/ipykernel_19659/3546464892.py:16#inner:16\u001b\\\u001b[2minner:16\u001b[0m\u001b]8;;\u001b\\\n"
      ]
     },
     "metadata": {},
     "output_type": "display_data"
    },
    {
     "data": {
      "text/html": [
       "<pre style=\"white-space:pre;overflow-x:auto;line-height:normal;font-family:Menlo,'DejaVu Sans Mono',consolas,'Courier New',monospace\"><span style=\"color: #7fbfbf; text-decoration-color: #7fbfbf\">[09/08/24 21:15:25] </span><span style=\"color: #bfbf7f; text-decoration-color: #bfbf7f\">INFO    </span> <span style=\"color: #008080; text-decoration-color: #008080; font-weight: bold\">2.01</span> seconds to execute `foo`                                                                                            <a href=\"file:///var/folders/1_/71dqv9vx2750gmyz77q_f45w0000gn/T/ipykernel_19659/3546464892.py:16\" target=\"_blank\"><span style=\"color: #7f7f7f; text-decoration-color: #7f7f7f\">3546464892.py</span></a><span style=\"color: #7f7f7f; text-decoration-color: #7f7f7f\">:</span><a href=\"file:///var/folders/1_/71dqv9vx2750gmyz77q_f45w0000gn/T/ipykernel_19659/3546464892.py:16#inner:16\" target=\"_blank\"><span style=\"color: #7f7f7f; text-decoration-color: #7f7f7f\">inner:16</span></a>\n",
       "</pre>\n"
      ],
      "text/plain": [
       "\u001b[2;36m[09/08/24 21:15:25]\u001b[0m\u001b[2;36m \u001b[0m\u001b[2;33mINFO    \u001b[0m \u001b[1;36m2.01\u001b[0m seconds to execute `foo`                                                                                            \u001b]8;id=632274;file:///var/folders/1_/71dqv9vx2750gmyz77q_f45w0000gn/T/ipykernel_19659/3546464892.py:16\u001b\\\u001b[2m3546464892.py\u001b[0m\u001b]8;;\u001b\\\u001b[2m:\u001b[0m\u001b]8;id=554827;file:///var/folders/1_/71dqv9vx2750gmyz77q_f45w0000gn/T/ipykernel_19659/3546464892.py:16#inner:16\u001b\\\u001b[2minner:16\u001b[0m\u001b]8;;\u001b\\\n"
      ]
     },
     "metadata": {},
     "output_type": "display_data"
    },
    {
     "data": {
      "text/plain": [
       "30"
      ]
     },
     "execution_count": 9,
     "metadata": {},
     "output_type": "execute_result"
    }
   ],
   "source": [
    "foo(10)\n",
    "foo(10, b=20)"
   ]
  },
  {
   "cell_type": "markdown",
   "metadata": {},
   "source": [
    "## Print IO\n",
    "`@io` will decorate to show inputs and outputs (along with time taken to execute) as a debug log"
   ]
  },
  {
   "cell_type": "code",
   "execution_count": 10,
   "metadata": {},
   "outputs": [
    {
     "data": {
      "text/html": [
       "<pre style=\"white-space:pre;overflow-x:auto;line-height:normal;font-family:Menlo,'DejaVu Sans Mono',consolas,'Courier New',monospace\"><span style=\"color: #7fbfbf; text-decoration-color: #7fbfbf\">[09/08/24 21:15:26] </span><span style=\"color: #7fbf7f; text-decoration-color: #7fbf7f\">DEBUG   </span>                                                                                                                       <a href=\"file:///var/folders/1_/71dqv9vx2750gmyz77q_f45w0000gn/T/ipykernel_19659/3679299354.py:11\" target=\"_blank\"><span style=\"color: #7f7f7f; text-decoration-color: #7f7f7f\">3679299354.py</span></a><span style=\"color: #7f7f7f; text-decoration-color: #7f7f7f\">:</span><a href=\"file:///var/folders/1_/71dqv9vx2750gmyz77q_f45w0000gn/T/ipykernel_19659/3679299354.py:11#<module>:11\" target=\"_blank\"><span style=\"color: #7f7f7f; text-decoration-color: #7f7f7f\">&lt;module&gt;:11</span></a>\n",
       "<span style=\"color: #7fbfbf; text-decoration-color: #7fbfbf\">                    </span>         <span style=\"color: #008080; text-decoration-color: #008080; font-weight: bold\">0.00</span> seconds to execute `foo`                                                                                         <span style=\"color: #7f7f7f; text-decoration-color: #7f7f7f\">                         </span>\n",
       "<span style=\"color: #7fbfbf; text-decoration-color: #7fbfbf\">                    </span>         <span style=\"color: #800080; text-decoration-color: #800080; font-weight: bold\">args</span><span style=\"font-weight: bold\">()</span>                                                                                                                <span style=\"color: #7f7f7f; text-decoration-color: #7f7f7f\">                         </span>\n",
       "<span style=\"color: #7fbfbf; text-decoration-color: #7fbfbf\">                    </span>           <span style=\"color: #008080; text-decoration-color: #008080; font-weight: bold\">0</span> - <span style=\"color: #008080; text-decoration-color: #008080; font-weight: bold\">10</span> <span style=\"font-weight: bold\">(</span>🏷️ int<span style=\"font-weight: bold\">)</span>                                                                                                      <span style=\"color: #7f7f7f; text-decoration-color: #7f7f7f\">                         </span>\n",
       "<span style=\"color: #7fbfbf; text-decoration-color: #7fbfbf\">                    </span>         kwargs                                                                                                                <span style=\"color: #7f7f7f; text-decoration-color: #7f7f7f\">                         </span>\n",
       "<span style=\"color: #7fbfbf; text-decoration-color: #7fbfbf\">                    </span>         outputs - <span style=\"color: #008080; text-decoration-color: #008080; font-weight: bold\">11</span> <span style=\"font-weight: bold\">(</span>🏷️ int<span style=\"font-weight: bold\">)</span>                                                                                                  <span style=\"color: #7f7f7f; text-decoration-color: #7f7f7f\">                         </span>\n",
       "<span style=\"color: #7fbfbf; text-decoration-color: #7fbfbf\">                    </span>                                                                                                                               <span style=\"color: #7f7f7f; text-decoration-color: #7f7f7f\">                         </span>\n",
       "<span style=\"color: #7fbfbf; text-decoration-color: #7fbfbf\">                    </span>                                                                                                                               <span style=\"color: #7f7f7f; text-decoration-color: #7f7f7f\">                         </span>\n",
       "</pre>\n"
      ],
      "text/plain": [
       "\u001b[2;36m[09/08/24 21:15:26]\u001b[0m\u001b[2;36m \u001b[0m\u001b[2;32mDEBUG   \u001b[0m                                                                                                                       \u001b]8;id=551079;file:///var/folders/1_/71dqv9vx2750gmyz77q_f45w0000gn/T/ipykernel_19659/3679299354.py:11\u001b\\\u001b[2m3679299354.py\u001b[0m\u001b]8;;\u001b\\\u001b[2m:\u001b[0m\u001b]8;id=466235;file:///var/folders/1_/71dqv9vx2750gmyz77q_f45w0000gn/T/ipykernel_19659/3679299354.py:11#<module>:11\u001b\\\u001b[2m<module>:11\u001b[0m\u001b]8;;\u001b\\\n",
       "\u001b[2;36m                    \u001b[0m         \u001b[1;36m0.00\u001b[0m seconds to execute `foo`                                                                                         \u001b[2m                         \u001b[0m\n",
       "\u001b[2;36m                    \u001b[0m         \u001b[1;35margs\u001b[0m\u001b[1m(\u001b[0m\u001b[1m)\u001b[0m                                                                                                                \u001b[2m                         \u001b[0m\n",
       "\u001b[2;36m                    \u001b[0m           \u001b[1;36m0\u001b[0m - \u001b[1;36m10\u001b[0m \u001b[1m(\u001b[0m🏷️ int\u001b[1m)\u001b[0m                                                                                                      \u001b[2m                         \u001b[0m\n",
       "\u001b[2;36m                    \u001b[0m         kwargs                                                                                                                \u001b[2m                         \u001b[0m\n",
       "\u001b[2;36m                    \u001b[0m         outputs - \u001b[1;36m11\u001b[0m \u001b[1m(\u001b[0m🏷️ int\u001b[1m)\u001b[0m                                                                                                  \u001b[2m                         \u001b[0m\n",
       "\u001b[2;36m                    \u001b[0m                                                                                                                               \u001b[2m                         \u001b[0m\n",
       "\u001b[2;36m                    \u001b[0m                                                                                                                               \u001b[2m                         \u001b[0m\n"
      ]
     },
     "metadata": {},
     "output_type": "display_data"
    },
    {
     "data": {
      "text/html": [
       "<pre style=\"white-space:pre;overflow-x:auto;line-height:normal;font-family:Menlo,'DejaVu Sans Mono',consolas,'Courier New',monospace\"><span style=\"color: #7fbfbf; text-decoration-color: #7fbfbf\">[09/08/24 21:15:28] </span><span style=\"color: #7fbf7f; text-decoration-color: #7fbf7f\">DEBUG   </span>                                                                                                                       <a href=\"file:///var/folders/1_/71dqv9vx2750gmyz77q_f45w0000gn/T/ipykernel_19659/3679299354.py:12\" target=\"_blank\"><span style=\"color: #7f7f7f; text-decoration-color: #7f7f7f\">3679299354.py</span></a><span style=\"color: #7f7f7f; text-decoration-color: #7f7f7f\">:</span><a href=\"file:///var/folders/1_/71dqv9vx2750gmyz77q_f45w0000gn/T/ipykernel_19659/3679299354.py:12#<module>:12\" target=\"_blank\"><span style=\"color: #7f7f7f; text-decoration-color: #7f7f7f\">&lt;module&gt;:12</span></a>\n",
       "<span style=\"color: #7fbfbf; text-decoration-color: #7fbfbf\">                    </span>         <span style=\"color: #008080; text-decoration-color: #008080; font-weight: bold\">2.01</span> seconds to execute `foo`                                                                                         <span style=\"color: #7f7f7f; text-decoration-color: #7f7f7f\">                         </span>\n",
       "<span style=\"color: #7fbfbf; text-decoration-color: #7fbfbf\">                    </span>         <span style=\"color: #800080; text-decoration-color: #800080; font-weight: bold\">args</span><span style=\"font-weight: bold\">()</span>                                                                                                                <span style=\"color: #7f7f7f; text-decoration-color: #7f7f7f\">                         </span>\n",
       "<span style=\"color: #7fbfbf; text-decoration-color: #7fbfbf\">                    </span>           <span style=\"color: #008080; text-decoration-color: #008080; font-weight: bold\">0</span> - <span style=\"color: #008080; text-decoration-color: #008080; font-weight: bold\">10</span> <span style=\"font-weight: bold\">(</span>🏷️ int<span style=\"font-weight: bold\">)</span>                                                                                                      <span style=\"color: #7f7f7f; text-decoration-color: #7f7f7f\">                         </span>\n",
       "<span style=\"color: #7fbfbf; text-decoration-color: #7fbfbf\">                    </span>         kwargs                                                                                                                <span style=\"color: #7f7f7f; text-decoration-color: #7f7f7f\">                         </span>\n",
       "<span style=\"color: #7fbfbf; text-decoration-color: #7fbfbf\">                    </span>           b - <span style=\"color: #008080; text-decoration-color: #008080; font-weight: bold\">20</span> <span style=\"font-weight: bold\">(</span>🏷️ int<span style=\"font-weight: bold\">)</span>                                                                                                      <span style=\"color: #7f7f7f; text-decoration-color: #7f7f7f\">                         </span>\n",
       "<span style=\"color: #7fbfbf; text-decoration-color: #7fbfbf\">                    </span>         outputs - <span style=\"color: #008080; text-decoration-color: #008080; font-weight: bold\">30</span> <span style=\"font-weight: bold\">(</span>🏷️ int<span style=\"font-weight: bold\">)</span>                                                                                                  <span style=\"color: #7f7f7f; text-decoration-color: #7f7f7f\">                         </span>\n",
       "<span style=\"color: #7fbfbf; text-decoration-color: #7fbfbf\">                    </span>                                                                                                                               <span style=\"color: #7f7f7f; text-decoration-color: #7f7f7f\">                         </span>\n",
       "<span style=\"color: #7fbfbf; text-decoration-color: #7fbfbf\">                    </span>                                                                                                                               <span style=\"color: #7f7f7f; text-decoration-color: #7f7f7f\">                         </span>\n",
       "</pre>\n"
      ],
      "text/plain": [
       "\u001b[2;36m[09/08/24 21:15:28]\u001b[0m\u001b[2;36m \u001b[0m\u001b[2;32mDEBUG   \u001b[0m                                                                                                                       \u001b]8;id=719917;file:///var/folders/1_/71dqv9vx2750gmyz77q_f45w0000gn/T/ipykernel_19659/3679299354.py:12\u001b\\\u001b[2m3679299354.py\u001b[0m\u001b]8;;\u001b\\\u001b[2m:\u001b[0m\u001b]8;id=466682;file:///var/folders/1_/71dqv9vx2750gmyz77q_f45w0000gn/T/ipykernel_19659/3679299354.py:12#<module>:12\u001b\\\u001b[2m<module>:12\u001b[0m\u001b]8;;\u001b\\\n",
       "\u001b[2;36m                    \u001b[0m         \u001b[1;36m2.01\u001b[0m seconds to execute `foo`                                                                                         \u001b[2m                         \u001b[0m\n",
       "\u001b[2;36m                    \u001b[0m         \u001b[1;35margs\u001b[0m\u001b[1m(\u001b[0m\u001b[1m)\u001b[0m                                                                                                                \u001b[2m                         \u001b[0m\n",
       "\u001b[2;36m                    \u001b[0m           \u001b[1;36m0\u001b[0m - \u001b[1;36m10\u001b[0m \u001b[1m(\u001b[0m🏷️ int\u001b[1m)\u001b[0m                                                                                                      \u001b[2m                         \u001b[0m\n",
       "\u001b[2;36m                    \u001b[0m         kwargs                                                                                                                \u001b[2m                         \u001b[0m\n",
       "\u001b[2;36m                    \u001b[0m           b - \u001b[1;36m20\u001b[0m \u001b[1m(\u001b[0m🏷️ int\u001b[1m)\u001b[0m                                                                                                      \u001b[2m                         \u001b[0m\n",
       "\u001b[2;36m                    \u001b[0m         outputs - \u001b[1;36m30\u001b[0m \u001b[1m(\u001b[0m🏷️ int\u001b[1m)\u001b[0m                                                                                                  \u001b[2m                         \u001b[0m\n",
       "\u001b[2;36m                    \u001b[0m                                                                                                                               \u001b[2m                         \u001b[0m\n",
       "\u001b[2;36m                    \u001b[0m                                                                                                                               \u001b[2m                         \u001b[0m\n"
      ]
     },
     "metadata": {},
     "output_type": "display_data"
    }
   ],
   "source": [
    "@io\n",
    "def foo(a, b=None):\n",
    "    if b is None:\n",
    "        return a + 1\n",
    "    else:\n",
    "        time.sleep(2)\n",
    "        return a + b\n",
    "\n",
    "\n",
    "with debug_mode():\n",
    "    foo(10)\n",
    "    foo(10, b=20)"
   ]
  },
  {
   "cell_type": "markdown",
   "metadata": {},
   "source": [
    "`@io` can be forced to print as log/trace if needed"
   ]
  },
  {
   "cell_type": "code",
   "execution_count": 11,
   "metadata": {},
   "outputs": [
    {
     "name": "stderr",
     "output_type": "stream",
     "text": [
      "\u001b[33m\u001b[2mSource path:... \u001b[22m/var/folders/1_/71dqv9vx2750gmyz77q_f45w0000gn/T/ipykernel_19659/3366644769.py\u001b[0m\n",
      "\u001b[32m\u001b[2mStarting var:.. \u001b[22ma = 10\u001b[0m\n",
      "\u001b[32m\u001b[2mStarting var:.. \u001b[22mb = None\u001b[0m\n",
      "\u001b[2m21:15:28.086121 call         2\u001b[0m def foo(a, b=None):\n",
      "\u001b[2m21:15:28.086353 line         3\u001b[0m     if b is None:\n",
      "\u001b[2m21:15:28.086394 line         4\u001b[0m         return a + 1\n",
      "\u001b[2m21:15:28.086413 return       4\u001b[0m         return a + 1\n",
      "\u001b[36m\u001b[2mReturn value:.. \u001b[22m11\u001b[0m\n",
      "\u001b[33m\u001b[2mElapsed time: \u001b[22m00:00:00.000727\u001b[0m\n"
     ]
    },
    {
     "data": {
      "text/html": [
       "<pre style=\"white-space:pre;overflow-x:auto;line-height:normal;font-family:Menlo,'DejaVu Sans Mono',consolas,'Courier New',monospace\"><span style=\"color: #7fbfbf; text-decoration-color: #7fbfbf\">[09/08/24 21:15:28] </span><span style=\"color: #7f7fbf; text-decoration-color: #7f7fbf\">TRACE   </span>                                                                                                                       <a href=\"file:///var/folders/1_/71dqv9vx2750gmyz77q_f45w0000gn/T/ipykernel_19659/3366644769.py:11\" target=\"_blank\"><span style=\"color: #7f7f7f; text-decoration-color: #7f7f7f\">3366644769.py</span></a><span style=\"color: #7f7f7f; text-decoration-color: #7f7f7f\">:</span><a href=\"file:///var/folders/1_/71dqv9vx2750gmyz77q_f45w0000gn/T/ipykernel_19659/3366644769.py:11#<module>:11\" target=\"_blank\"><span style=\"color: #7f7f7f; text-decoration-color: #7f7f7f\">&lt;module&gt;:11</span></a>\n",
       "<span style=\"color: #7fbfbf; text-decoration-color: #7fbfbf\">                    </span>         <span style=\"color: #008080; text-decoration-color: #008080; font-weight: bold\">0.00</span> seconds to execute `foo`                                                                                         <span style=\"color: #7f7f7f; text-decoration-color: #7f7f7f\">                         </span>\n",
       "<span style=\"color: #7fbfbf; text-decoration-color: #7fbfbf\">                    </span>         <span style=\"color: #800080; text-decoration-color: #800080; font-weight: bold\">args</span><span style=\"font-weight: bold\">()</span>                                                                                                                <span style=\"color: #7f7f7f; text-decoration-color: #7f7f7f\">                         </span>\n",
       "<span style=\"color: #7fbfbf; text-decoration-color: #7fbfbf\">                    </span>           <span style=\"color: #008080; text-decoration-color: #008080; font-weight: bold\">0</span> - <span style=\"color: #008080; text-decoration-color: #008080; font-weight: bold\">10</span> <span style=\"font-weight: bold\">(</span>🏷️ int<span style=\"font-weight: bold\">)</span>                                                                                                      <span style=\"color: #7f7f7f; text-decoration-color: #7f7f7f\">                         </span>\n",
       "<span style=\"color: #7fbfbf; text-decoration-color: #7fbfbf\">                    </span>         kwargs                                                                                                                <span style=\"color: #7f7f7f; text-decoration-color: #7f7f7f\">                         </span>\n",
       "<span style=\"color: #7fbfbf; text-decoration-color: #7fbfbf\">                    </span>         outputs - <span style=\"color: #008080; text-decoration-color: #008080; font-weight: bold\">11</span> <span style=\"font-weight: bold\">(</span>🏷️ int<span style=\"font-weight: bold\">)</span>                                                                                                  <span style=\"color: #7f7f7f; text-decoration-color: #7f7f7f\">                         </span>\n",
       "<span style=\"color: #7fbfbf; text-decoration-color: #7fbfbf\">                    </span>                                                                                                                               <span style=\"color: #7f7f7f; text-decoration-color: #7f7f7f\">                         </span>\n",
       "<span style=\"color: #7fbfbf; text-decoration-color: #7fbfbf\">                    </span>                                                                                                                               <span style=\"color: #7f7f7f; text-decoration-color: #7f7f7f\">                         </span>\n",
       "</pre>\n"
      ],
      "text/plain": [
       "\u001b[2;36m[09/08/24 21:15:28]\u001b[0m\u001b[2;36m \u001b[0m\u001b[2;34mTRACE   \u001b[0m                                                                                                                       \u001b]8;id=905678;file:///var/folders/1_/71dqv9vx2750gmyz77q_f45w0000gn/T/ipykernel_19659/3366644769.py:11\u001b\\\u001b[2m3366644769.py\u001b[0m\u001b]8;;\u001b\\\u001b[2m:\u001b[0m\u001b]8;id=886845;file:///var/folders/1_/71dqv9vx2750gmyz77q_f45w0000gn/T/ipykernel_19659/3366644769.py:11#<module>:11\u001b\\\u001b[2m<module>:11\u001b[0m\u001b]8;;\u001b\\\n",
       "\u001b[2;36m                    \u001b[0m         \u001b[1;36m0.00\u001b[0m seconds to execute `foo`                                                                                         \u001b[2m                         \u001b[0m\n",
       "\u001b[2;36m                    \u001b[0m         \u001b[1;35margs\u001b[0m\u001b[1m(\u001b[0m\u001b[1m)\u001b[0m                                                                                                                \u001b[2m                         \u001b[0m\n",
       "\u001b[2;36m                    \u001b[0m           \u001b[1;36m0\u001b[0m - \u001b[1;36m10\u001b[0m \u001b[1m(\u001b[0m🏷️ int\u001b[1m)\u001b[0m                                                                                                      \u001b[2m                         \u001b[0m\n",
       "\u001b[2;36m                    \u001b[0m         kwargs                                                                                                                \u001b[2m                         \u001b[0m\n",
       "\u001b[2;36m                    \u001b[0m         outputs - \u001b[1;36m11\u001b[0m \u001b[1m(\u001b[0m🏷️ int\u001b[1m)\u001b[0m                                                                                                  \u001b[2m                         \u001b[0m\n",
       "\u001b[2;36m                    \u001b[0m                                                                                                                               \u001b[2m                         \u001b[0m\n",
       "\u001b[2;36m                    \u001b[0m                                                                                                                               \u001b[2m                         \u001b[0m\n"
      ]
     },
     "metadata": {},
     "output_type": "display_data"
    },
    {
     "name": "stderr",
     "output_type": "stream",
     "text": [
      "\u001b[33m\u001b[2mSource path:... \u001b[22m/var/folders/1_/71dqv9vx2750gmyz77q_f45w0000gn/T/ipykernel_19659/3366644769.py\u001b[0m\n",
      "\u001b[32m\u001b[2mStarting var:.. \u001b[22ma = 10\u001b[0m\n",
      "\u001b[32m\u001b[2mStarting var:.. \u001b[22mb = 20\u001b[0m\n",
      "\u001b[2m21:15:29.096196 call         2\u001b[0m def foo(a, b=None):\n",
      "\u001b[2m21:15:29.096974 line         3\u001b[0m     if b is None:\n",
      "\u001b[2m21:15:29.097093 line         6\u001b[0m         time.sleep(2)\n",
      "\u001b[2m21:15:31.097930 line         7\u001b[0m         return a + b\n",
      "\u001b[2m21:15:31.098743 return       7\u001b[0m         return a + b\n",
      "\u001b[36m\u001b[2mReturn value:.. \u001b[22m30\u001b[0m\n",
      "\u001b[33m\u001b[2mElapsed time: \u001b[22m00:00:02.003559\u001b[0m\n"
     ]
    },
    {
     "data": {
      "text/html": [
       "<pre style=\"white-space:pre;overflow-x:auto;line-height:normal;font-family:Menlo,'DejaVu Sans Mono',consolas,'Courier New',monospace\"><span style=\"color: #7fbfbf; text-decoration-color: #7fbfbf\">[09/08/24 21:15:31] </span><span style=\"color: #7f7fbf; text-decoration-color: #7f7fbf\">TRACE   </span>                                                                                                                       <a href=\"file:///var/folders/1_/71dqv9vx2750gmyz77q_f45w0000gn/T/ipykernel_19659/3366644769.py:15\" target=\"_blank\"><span style=\"color: #7f7f7f; text-decoration-color: #7f7f7f\">3366644769.py</span></a><span style=\"color: #7f7f7f; text-decoration-color: #7f7f7f\">:</span><a href=\"file:///var/folders/1_/71dqv9vx2750gmyz77q_f45w0000gn/T/ipykernel_19659/3366644769.py:15#<module>:15\" target=\"_blank\"><span style=\"color: #7f7f7f; text-decoration-color: #7f7f7f\">&lt;module&gt;:15</span></a>\n",
       "<span style=\"color: #7fbfbf; text-decoration-color: #7fbfbf\">                    </span>         <span style=\"color: #008080; text-decoration-color: #008080; font-weight: bold\">2.00</span> seconds to execute `foo`                                                                                         <span style=\"color: #7f7f7f; text-decoration-color: #7f7f7f\">                         </span>\n",
       "<span style=\"color: #7fbfbf; text-decoration-color: #7fbfbf\">                    </span>         <span style=\"color: #800080; text-decoration-color: #800080; font-weight: bold\">args</span><span style=\"font-weight: bold\">()</span>                                                                                                                <span style=\"color: #7f7f7f; text-decoration-color: #7f7f7f\">                         </span>\n",
       "<span style=\"color: #7fbfbf; text-decoration-color: #7fbfbf\">                    </span>           <span style=\"color: #008080; text-decoration-color: #008080; font-weight: bold\">0</span> - <span style=\"color: #008080; text-decoration-color: #008080; font-weight: bold\">10</span> <span style=\"font-weight: bold\">(</span>🏷️ int<span style=\"font-weight: bold\">)</span>                                                                                                      <span style=\"color: #7f7f7f; text-decoration-color: #7f7f7f\">                         </span>\n",
       "<span style=\"color: #7fbfbf; text-decoration-color: #7fbfbf\">                    </span>         kwargs                                                                                                                <span style=\"color: #7f7f7f; text-decoration-color: #7f7f7f\">                         </span>\n",
       "<span style=\"color: #7fbfbf; text-decoration-color: #7fbfbf\">                    </span>           b - <span style=\"color: #008080; text-decoration-color: #008080; font-weight: bold\">20</span> <span style=\"font-weight: bold\">(</span>🏷️ int<span style=\"font-weight: bold\">)</span>                                                                                                      <span style=\"color: #7f7f7f; text-decoration-color: #7f7f7f\">                         </span>\n",
       "<span style=\"color: #7fbfbf; text-decoration-color: #7fbfbf\">                    </span>         outputs - <span style=\"color: #008080; text-decoration-color: #008080; font-weight: bold\">30</span> <span style=\"font-weight: bold\">(</span>🏷️ int<span style=\"font-weight: bold\">)</span>                                                                                                  <span style=\"color: #7f7f7f; text-decoration-color: #7f7f7f\">                         </span>\n",
       "<span style=\"color: #7fbfbf; text-decoration-color: #7fbfbf\">                    </span>                                                                                                                               <span style=\"color: #7f7f7f; text-decoration-color: #7f7f7f\">                         </span>\n",
       "<span style=\"color: #7fbfbf; text-decoration-color: #7fbfbf\">                    </span>                                                                                                                               <span style=\"color: #7f7f7f; text-decoration-color: #7f7f7f\">                         </span>\n",
       "</pre>\n"
      ],
      "text/plain": [
       "\u001b[2;36m[09/08/24 21:15:31]\u001b[0m\u001b[2;36m \u001b[0m\u001b[2;34mTRACE   \u001b[0m                                                                                                                       \u001b]8;id=400373;file:///var/folders/1_/71dqv9vx2750gmyz77q_f45w0000gn/T/ipykernel_19659/3366644769.py:15\u001b\\\u001b[2m3366644769.py\u001b[0m\u001b]8;;\u001b\\\u001b[2m:\u001b[0m\u001b]8;id=169817;file:///var/folders/1_/71dqv9vx2750gmyz77q_f45w0000gn/T/ipykernel_19659/3366644769.py:15#<module>:15\u001b\\\u001b[2m<module>:15\u001b[0m\u001b]8;;\u001b\\\n",
       "\u001b[2;36m                    \u001b[0m         \u001b[1;36m2.00\u001b[0m seconds to execute `foo`                                                                                         \u001b[2m                         \u001b[0m\n",
       "\u001b[2;36m                    \u001b[0m         \u001b[1;35margs\u001b[0m\u001b[1m(\u001b[0m\u001b[1m)\u001b[0m                                                                                                                \u001b[2m                         \u001b[0m\n",
       "\u001b[2;36m                    \u001b[0m           \u001b[1;36m0\u001b[0m - \u001b[1;36m10\u001b[0m \u001b[1m(\u001b[0m🏷️ int\u001b[1m)\u001b[0m                                                                                                      \u001b[2m                         \u001b[0m\n",
       "\u001b[2;36m                    \u001b[0m         kwargs                                                                                                                \u001b[2m                         \u001b[0m\n",
       "\u001b[2;36m                    \u001b[0m           b - \u001b[1;36m20\u001b[0m \u001b[1m(\u001b[0m🏷️ int\u001b[1m)\u001b[0m                                                                                                      \u001b[2m                         \u001b[0m\n",
       "\u001b[2;36m                    \u001b[0m         outputs - \u001b[1;36m30\u001b[0m \u001b[1m(\u001b[0m🏷️ int\u001b[1m)\u001b[0m                                                                                                  \u001b[2m                         \u001b[0m\n",
       "\u001b[2;36m                    \u001b[0m                                                                                                                               \u001b[2m                         \u001b[0m\n",
       "\u001b[2;36m                    \u001b[0m                                                                                                                               \u001b[2m                         \u001b[0m\n"
      ]
     },
     "metadata": {},
     "output_type": "display_data"
    }
   ],
   "source": [
    "@io(level=\"trace\")\n",
    "def foo(a, b=None):\n",
    "    if b is None:\n",
    "        return a + 1\n",
    "    else:\n",
    "        time.sleep(2)\n",
    "        return a + b\n",
    "\n",
    "\n",
    "with trace_mode():\n",
    "    foo(10)\n",
    "    import time\n",
    "\n",
    "    time.sleep(1)\n",
    "    foo(10, b=20)"
   ]
  },
  {
   "cell_type": "code",
   "execution_count": null,
   "metadata": {},
   "outputs": [],
   "source": [
    "# | export\n",
    "# | hide\n",
    "\n",
    "\n",
    "def tryy(\n",
    "    func=None,\n",
    "    *,\n",
    "    output_to_return_on_fail=None,\n",
    "    silence_errors=False,\n",
    "    print_traceback=False,\n",
    "    store_errors: bool = True,\n",
    "):\n",
    "    def decorator(f):\n",
    "        if isinstance(store_errors, bool) and store_errors:\n",
    "            error_store = []\n",
    "        elif isinstance(store_errors, (list, type([]))):  # Avoid `L` unless defined\n",
    "            error_store = store_errors\n",
    "\n",
    "        @wraps(f)  # Preserve the original function's metadata\n",
    "        def wrapper(*args, **kwargs):\n",
    "            try:\n",
    "                return f(*args, **kwargs)\n",
    "            except Exception as e:\n",
    "                if not silence_errors:\n",
    "                    if not print_traceback:\n",
    "                        tb = f\"{type(e).__name__}: {str(e)}\"\n",
    "                        Warn(f\"Error for `{f.__name__}`: {tb}\")\n",
    "                    else:\n",
    "                        import traceback\n",
    "\n",
    "                        tb = traceback.format_exc()\n",
    "                        Warn(f\"Error for `{f.__name__}`:\\n{tb}\")\n",
    "                else:\n",
    "                    tb = None\n",
    "                if store_errors is not None:\n",
    "                    error_store.append(\n",
    "                        {\n",
    "                            \"func\": f.__name__,\n",
    "                            \"args\": args,\n",
    "                            \"kwargs\": kwargs,\n",
    "                            \"tb\": tb,\n",
    "                            \"err_type\": type(e).__name__,\n",
    "                        }\n",
    "                    )\n",
    "                return output_to_return_on_fail\n",
    "\n",
    "        # Attach additional attributes\n",
    "        wrapper.F = f\n",
    "        wrapper.error_store = error_store\n",
    "\n",
    "        def errors():\n",
    "            import pandas as pd\n",
    "\n",
    "            return pd.DataFrame(error_store)\n",
    "\n",
    "        wrapper.errors = errors\n",
    "        wrapper.error_summary = errors  # backward compatibility\n",
    "        return wrapper\n",
    "\n",
    "    if callable(func):\n",
    "        return decorator(func)\n",
    "    return decorator"
   ]
  },
  {
   "cell_type": "markdown",
   "metadata": {},
   "source": [
    "## Try Catch with a single line"
   ]
  },
  {
   "cell_type": "code",
   "execution_count": 13,
   "metadata": {},
   "outputs": [
    {
     "data": {
      "text/html": [
       "<pre style=\"white-space:pre;overflow-x:auto;line-height:normal;font-family:Menlo,'DejaVu Sans Mono',consolas,'Courier New',monospace\"><span style=\"color: #7fbfbf; text-decoration-color: #7fbfbf\">[09/08/24 21:15:31] </span><span style=\"color: #bf7f7f; text-decoration-color: #bf7f7f\">WARNING </span> Error for `do` with                                                                                                      <a href=\"file:///var/folders/1_/71dqv9vx2750gmyz77q_f45w0000gn/T/ipykernel_19659/2770652618.py:26\" target=\"_blank\"><span style=\"color: #7f7f7f; text-decoration-color: #7f7f7f\">2770652618.py</span></a><span style=\"color: #7f7f7f; text-decoration-color: #7f7f7f\">:</span><a href=\"file:///var/folders/1_/71dqv9vx2750gmyz77q_f45w0000gn/T/ipykernel_19659/2770652618.py:26#inner:26\" target=\"_blank\"><span style=\"color: #7f7f7f; text-decoration-color: #7f7f7f\">inner:26</span></a>\n",
       "<span style=\"color: #7fbfbf; text-decoration-color: #7fbfbf\">                    </span>         <span style=\"color: #800080; text-decoration-color: #800080; font-weight: bold\">args</span><span style=\"font-weight: bold\">()</span>                                                                                                                   <span style=\"color: #7f7f7f; text-decoration-color: #7f7f7f\">                      </span>\n",
       "<span style=\"color: #7fbfbf; text-decoration-color: #7fbfbf\">                    </span>           <span style=\"color: #008080; text-decoration-color: #008080; font-weight: bold\">0</span> - <span style=\"color: #008080; text-decoration-color: #008080; font-weight: bold\">1</span> <span style=\"font-weight: bold\">(</span>🏷️ int<span style=\"font-weight: bold\">)</span>                                                                                                          <span style=\"color: #7f7f7f; text-decoration-color: #7f7f7f\">                      </span>\n",
       "<span style=\"color: #7fbfbf; text-decoration-color: #7fbfbf\">                    </span>           <span style=\"color: #008080; text-decoration-color: #008080; font-weight: bold\">1</span> - <span style=\"color: #008080; text-decoration-color: #008080; font-weight: bold\">2</span> <span style=\"font-weight: bold\">(</span>🏷️ int<span style=\"font-weight: bold\">)</span>                                                                                                          <span style=\"color: #7f7f7f; text-decoration-color: #7f7f7f\">                      </span>\n",
       "<span style=\"color: #7fbfbf; text-decoration-color: #7fbfbf\">                    </span>         kwargs                                                                                                                   <span style=\"color: #7f7f7f; text-decoration-color: #7f7f7f\">                      </span>\n",
       "<span style=\"color: #7fbfbf; text-decoration-color: #7fbfbf\">                    </span>           c - <span style=\"color: #008080; text-decoration-color: #008080; font-weight: bold\">10</span> <span style=\"font-weight: bold\">(</span>🏷️ int<span style=\"font-weight: bold\">)</span>                                                                                                         <span style=\"color: #7f7f7f; text-decoration-color: #7f7f7f\">                      </span>\n",
       "<span style=\"color: #7fbfbf; text-decoration-color: #7fbfbf\">                    </span>                                                                                                                                  <span style=\"color: #7f7f7f; text-decoration-color: #7f7f7f\">                      </span>\n",
       "<span style=\"color: #7fbfbf; text-decoration-color: #7fbfbf\">                    </span>         ZeroDivisionError: division by zero                                                                                      <span style=\"color: #7f7f7f; text-decoration-color: #7f7f7f\">                      </span>\n",
       "</pre>\n"
      ],
      "text/plain": [
       "\u001b[2;36m[09/08/24 21:15:31]\u001b[0m\u001b[2;36m \u001b[0m\u001b[2;31mWARNING \u001b[0m Error for `do` with                                                                                                      \u001b]8;id=929623;file:///var/folders/1_/71dqv9vx2750gmyz77q_f45w0000gn/T/ipykernel_19659/2770652618.py:26\u001b\\\u001b[2m2770652618.py\u001b[0m\u001b]8;;\u001b\\\u001b[2m:\u001b[0m\u001b]8;id=670185;file:///var/folders/1_/71dqv9vx2750gmyz77q_f45w0000gn/T/ipykernel_19659/2770652618.py:26#inner:26\u001b\\\u001b[2minner:26\u001b[0m\u001b]8;;\u001b\\\n",
       "\u001b[2;36m                    \u001b[0m         \u001b[1;35margs\u001b[0m\u001b[1m(\u001b[0m\u001b[1m)\u001b[0m                                                                                                                   \u001b[2m                      \u001b[0m\n",
       "\u001b[2;36m                    \u001b[0m           \u001b[1;36m0\u001b[0m - \u001b[1;36m1\u001b[0m \u001b[1m(\u001b[0m🏷️ int\u001b[1m)\u001b[0m                                                                                                          \u001b[2m                      \u001b[0m\n",
       "\u001b[2;36m                    \u001b[0m           \u001b[1;36m1\u001b[0m - \u001b[1;36m2\u001b[0m \u001b[1m(\u001b[0m🏷️ int\u001b[1m)\u001b[0m                                                                                                          \u001b[2m                      \u001b[0m\n",
       "\u001b[2;36m                    \u001b[0m         kwargs                                                                                                                   \u001b[2m                      \u001b[0m\n",
       "\u001b[2;36m                    \u001b[0m           c - \u001b[1;36m10\u001b[0m \u001b[1m(\u001b[0m🏷️ int\u001b[1m)\u001b[0m                                                                                                         \u001b[2m                      \u001b[0m\n",
       "\u001b[2;36m                    \u001b[0m                                                                                                                                  \u001b[2m                      \u001b[0m\n",
       "\u001b[2;36m                    \u001b[0m         ZeroDivisionError: division by zero                                                                                      \u001b[2m                      \u001b[0m\n"
      ]
     },
     "metadata": {},
     "output_type": "display_data"
    }
   ],
   "source": [
    "@tryy\n",
    "def do(a, b, c):\n",
    "    return 1 / 0\n",
    "\n",
    "\n",
    "x = do(1, 2, c=10)\n",
    "assert x is None  # tryy returns None by default"
   ]
  },
  {
   "cell_type": "markdown",
   "metadata": {},
   "source": [
    "Use your own default on failure"
   ]
  },
  {
   "cell_type": "code",
   "execution_count": 14,
   "metadata": {},
   "outputs": [
    {
     "data": {
      "text/html": [
       "<pre style=\"white-space:pre;overflow-x:auto;line-height:normal;font-family:Menlo,'DejaVu Sans Mono',consolas,'Courier New',monospace\"><span style=\"color: #7fbfbf; text-decoration-color: #7fbfbf\">                    </span><span style=\"color: #bf7f7f; text-decoration-color: #bf7f7f\">WARNING </span> Error for `do` with                                                                                                      <a href=\"file:///var/folders/1_/71dqv9vx2750gmyz77q_f45w0000gn/T/ipykernel_19659/2770652618.py:26\" target=\"_blank\"><span style=\"color: #7f7f7f; text-decoration-color: #7f7f7f\">2770652618.py</span></a><span style=\"color: #7f7f7f; text-decoration-color: #7f7f7f\">:</span><a href=\"file:///var/folders/1_/71dqv9vx2750gmyz77q_f45w0000gn/T/ipykernel_19659/2770652618.py:26#inner:26\" target=\"_blank\"><span style=\"color: #7f7f7f; text-decoration-color: #7f7f7f\">inner:26</span></a>\n",
       "<span style=\"color: #7fbfbf; text-decoration-color: #7fbfbf\">                    </span>         <span style=\"color: #800080; text-decoration-color: #800080; font-weight: bold\">args</span><span style=\"font-weight: bold\">()</span>                                                                                                                   <span style=\"color: #7f7f7f; text-decoration-color: #7f7f7f\">                      </span>\n",
       "<span style=\"color: #7fbfbf; text-decoration-color: #7fbfbf\">                    </span>           <span style=\"color: #008080; text-decoration-color: #008080; font-weight: bold\">0</span> - <span style=\"color: #008080; text-decoration-color: #008080; font-weight: bold\">1</span> <span style=\"font-weight: bold\">(</span>🏷️ int<span style=\"font-weight: bold\">)</span>                                                                                                          <span style=\"color: #7f7f7f; text-decoration-color: #7f7f7f\">                      </span>\n",
       "<span style=\"color: #7fbfbf; text-decoration-color: #7fbfbf\">                    </span>           <span style=\"color: #008080; text-decoration-color: #008080; font-weight: bold\">1</span> - <span style=\"color: #008080; text-decoration-color: #008080; font-weight: bold\">2</span> <span style=\"font-weight: bold\">(</span>🏷️ int<span style=\"font-weight: bold\">)</span>                                                                                                          <span style=\"color: #7f7f7f; text-decoration-color: #7f7f7f\">                      </span>\n",
       "<span style=\"color: #7fbfbf; text-decoration-color: #7fbfbf\">                    </span>         kwargs                                                                                                                   <span style=\"color: #7f7f7f; text-decoration-color: #7f7f7f\">                      </span>\n",
       "<span style=\"color: #7fbfbf; text-decoration-color: #7fbfbf\">                    </span>           c - <span style=\"color: #008080; text-decoration-color: #008080; font-weight: bold\">10</span> <span style=\"font-weight: bold\">(</span>🏷️ int<span style=\"font-weight: bold\">)</span>                                                                                                         <span style=\"color: #7f7f7f; text-decoration-color: #7f7f7f\">                      </span>\n",
       "<span style=\"color: #7fbfbf; text-decoration-color: #7fbfbf\">                    </span>                                                                                                                                  <span style=\"color: #7f7f7f; text-decoration-color: #7f7f7f\">                      </span>\n",
       "<span style=\"color: #7fbfbf; text-decoration-color: #7fbfbf\">                    </span>         ZeroDivisionError: division by zero                                                                                      <span style=\"color: #7f7f7f; text-decoration-color: #7f7f7f\">                      </span>\n",
       "</pre>\n"
      ],
      "text/plain": [
       "\u001b[2;36m                   \u001b[0m\u001b[2;36m \u001b[0m\u001b[2;31mWARNING \u001b[0m Error for `do` with                                                                                                      \u001b]8;id=256828;file:///var/folders/1_/71dqv9vx2750gmyz77q_f45w0000gn/T/ipykernel_19659/2770652618.py:26\u001b\\\u001b[2m2770652618.py\u001b[0m\u001b]8;;\u001b\\\u001b[2m:\u001b[0m\u001b]8;id=42291;file:///var/folders/1_/71dqv9vx2750gmyz77q_f45w0000gn/T/ipykernel_19659/2770652618.py:26#inner:26\u001b\\\u001b[2minner:26\u001b[0m\u001b]8;;\u001b\\\n",
       "\u001b[2;36m                    \u001b[0m         \u001b[1;35margs\u001b[0m\u001b[1m(\u001b[0m\u001b[1m)\u001b[0m                                                                                                                   \u001b[2m                      \u001b[0m\n",
       "\u001b[2;36m                    \u001b[0m           \u001b[1;36m0\u001b[0m - \u001b[1;36m1\u001b[0m \u001b[1m(\u001b[0m🏷️ int\u001b[1m)\u001b[0m                                                                                                          \u001b[2m                      \u001b[0m\n",
       "\u001b[2;36m                    \u001b[0m           \u001b[1;36m1\u001b[0m - \u001b[1;36m2\u001b[0m \u001b[1m(\u001b[0m🏷️ int\u001b[1m)\u001b[0m                                                                                                          \u001b[2m                      \u001b[0m\n",
       "\u001b[2;36m                    \u001b[0m         kwargs                                                                                                                   \u001b[2m                      \u001b[0m\n",
       "\u001b[2;36m                    \u001b[0m           c - \u001b[1;36m10\u001b[0m \u001b[1m(\u001b[0m🏷️ int\u001b[1m)\u001b[0m                                                                                                         \u001b[2m                      \u001b[0m\n",
       "\u001b[2;36m                    \u001b[0m                                                                                                                                  \u001b[2m                      \u001b[0m\n",
       "\u001b[2;36m                    \u001b[0m         ZeroDivisionError: division by zero                                                                                      \u001b[2m                      \u001b[0m\n"
      ]
     },
     "metadata": {},
     "output_type": "display_data"
    },
    {
     "data": {
      "text/plain": [
       "'😔'"
      ]
     },
     "execution_count": 14,
     "metadata": {},
     "output_type": "execute_result"
    }
   ],
   "source": [
    "@tryy(output_to_return_on_fail=\"😔\")\n",
    "def do(a, b, c):\n",
    "    return 1 / 0\n",
    "\n",
    "\n",
    "do(1, 2, c=10)"
   ]
  },
  {
   "cell_type": "markdown",
   "metadata": {},
   "source": [
    "Optionally print the full stacktrace if needed"
   ]
  },
  {
   "cell_type": "code",
   "execution_count": 15,
   "metadata": {},
   "outputs": [
    {
     "data": {
      "text/html": [
       "<pre style=\"white-space:pre;overflow-x:auto;line-height:normal;font-family:Menlo,'DejaVu Sans Mono',consolas,'Courier New',monospace\"><span style=\"color: #7fbfbf; text-decoration-color: #7fbfbf\">                    </span><span style=\"color: #bf7f7f; text-decoration-color: #bf7f7f\">WARNING </span> Error for `do` with                                                                                                      <a href=\"file:///var/folders/1_/71dqv9vx2750gmyz77q_f45w0000gn/T/ipykernel_19659/2770652618.py:34\" target=\"_blank\"><span style=\"color: #7f7f7f; text-decoration-color: #7f7f7f\">2770652618.py</span></a><span style=\"color: #7f7f7f; text-decoration-color: #7f7f7f\">:</span><a href=\"file:///var/folders/1_/71dqv9vx2750gmyz77q_f45w0000gn/T/ipykernel_19659/2770652618.py:34#inner:34\" target=\"_blank\"><span style=\"color: #7f7f7f; text-decoration-color: #7f7f7f\">inner:34</span></a>\n",
       "<span style=\"color: #7fbfbf; text-decoration-color: #7fbfbf\">                    </span>         <span style=\"color: #800080; text-decoration-color: #800080; font-weight: bold\">args</span><span style=\"font-weight: bold\">()</span>                                                                                                                   <span style=\"color: #7f7f7f; text-decoration-color: #7f7f7f\">                      </span>\n",
       "<span style=\"color: #7fbfbf; text-decoration-color: #7fbfbf\">                    </span>           <span style=\"color: #008080; text-decoration-color: #008080; font-weight: bold\">0</span> - <span style=\"color: #008080; text-decoration-color: #008080; font-weight: bold\">1</span> <span style=\"font-weight: bold\">(</span>🏷️ int<span style=\"font-weight: bold\">)</span>                                                                                                          <span style=\"color: #7f7f7f; text-decoration-color: #7f7f7f\">                      </span>\n",
       "<span style=\"color: #7fbfbf; text-decoration-color: #7fbfbf\">                    </span>           <span style=\"color: #008080; text-decoration-color: #008080; font-weight: bold\">1</span> - <span style=\"color: #008080; text-decoration-color: #008080; font-weight: bold\">2</span> <span style=\"font-weight: bold\">(</span>🏷️ int<span style=\"font-weight: bold\">)</span>                                                                                                          <span style=\"color: #7f7f7f; text-decoration-color: #7f7f7f\">                      </span>\n",
       "<span style=\"color: #7fbfbf; text-decoration-color: #7fbfbf\">                    </span>         kwargs                                                                                                                   <span style=\"color: #7f7f7f; text-decoration-color: #7f7f7f\">                      </span>\n",
       "<span style=\"color: #7fbfbf; text-decoration-color: #7fbfbf\">                    </span>           c - <span style=\"color: #008080; text-decoration-color: #008080; font-weight: bold\">10</span> <span style=\"font-weight: bold\">(</span>🏷️ int<span style=\"font-weight: bold\">)</span>                                                                                                         <span style=\"color: #7f7f7f; text-decoration-color: #7f7f7f\">                      </span>\n",
       "<span style=\"color: #7fbfbf; text-decoration-color: #7fbfbf\">                    </span>                                                                                                                                  <span style=\"color: #7f7f7f; text-decoration-color: #7f7f7f\">                      </span>\n",
       "<span style=\"color: #7fbfbf; text-decoration-color: #7fbfbf\">                    </span>         Traceback <span style=\"font-weight: bold\">(</span>most recent call last<span style=\"font-weight: bold\">)</span>:                                                                                       <span style=\"color: #7f7f7f; text-decoration-color: #7f7f7f\">                      </span>\n",
       "<span style=\"color: #7fbfbf; text-decoration-color: #7fbfbf\">                    </span>           File <span style=\"color: #008000; text-decoration-color: #008000\">\"/var/folders/1_/71dqv9vx2750gmyz77q_f45w0000gn/T/ipykernel_19659/2770652618.py\"</span>, line <span style=\"color: #008080; text-decoration-color: #008080; font-weight: bold\">21</span>, in inner               <span style=\"color: #7f7f7f; text-decoration-color: #7f7f7f\">                      </span>\n",
       "<span style=\"color: #7fbfbf; text-decoration-color: #7fbfbf\">                    </span>             return <span style=\"color: #800080; text-decoration-color: #800080; font-weight: bold\">f</span><span style=\"font-weight: bold\">(</span>*args, **kwargs<span style=\"font-weight: bold\">)</span>                                                                                            <span style=\"color: #7f7f7f; text-decoration-color: #7f7f7f\">                      </span>\n",
       "<span style=\"color: #7fbfbf; text-decoration-color: #7fbfbf\">                    </span>                    ^^^^^^^^^^^^^^^^^^                                                                                            <span style=\"color: #7f7f7f; text-decoration-color: #7f7f7f\">                      </span>\n",
       "<span style=\"color: #7fbfbf; text-decoration-color: #7fbfbf\">                    </span>           File <span style=\"color: #008000; text-decoration-color: #008000\">\"/var/folders/1_/71dqv9vx2750gmyz77q_f45w0000gn/T/ipykernel_19659/580638143.py\"</span>, line <span style=\"color: #008080; text-decoration-color: #008080; font-weight: bold\">3</span>, in do                    <span style=\"color: #7f7f7f; text-decoration-color: #7f7f7f\">                      </span>\n",
       "<span style=\"color: #7fbfbf; text-decoration-color: #7fbfbf\">                    </span>             return <span style=\"color: #008080; text-decoration-color: #008080; font-weight: bold\">1</span> <span style=\"color: #800080; text-decoration-color: #800080\">/</span> <span style=\"color: #008080; text-decoration-color: #008080; font-weight: bold\">0</span>                                                                                                         <span style=\"color: #7f7f7f; text-decoration-color: #7f7f7f\">                      </span>\n",
       "<span style=\"color: #7fbfbf; text-decoration-color: #7fbfbf\">                    </span>                    ~~^~~                                                                                                         <span style=\"color: #7f7f7f; text-decoration-color: #7f7f7f\">                      </span>\n",
       "<span style=\"color: #7fbfbf; text-decoration-color: #7fbfbf\">                    </span>         ZeroDivisionError: division by zero                                                                                      <span style=\"color: #7f7f7f; text-decoration-color: #7f7f7f\">                      </span>\n",
       "<span style=\"color: #7fbfbf; text-decoration-color: #7fbfbf\">                    </span>                                                                                                                                  <span style=\"color: #7f7f7f; text-decoration-color: #7f7f7f\">                      </span>\n",
       "<span style=\"color: #7fbfbf; text-decoration-color: #7fbfbf\">                    </span>         Traceback <span style=\"font-weight: bold\">(</span>most recent call last<span style=\"font-weight: bold\">)</span>:                                                                                       <span style=\"color: #7f7f7f; text-decoration-color: #7f7f7f\">                      </span>\n",
       "<span style=\"color: #7fbfbf; text-decoration-color: #7fbfbf\">                    </span>           File <span style=\"color: #008000; text-decoration-color: #008000\">\"/var/folders/1_/71dqv9vx2750gmyz77q_f45w0000gn/T/ipykernel_19659/2770652618.py\"</span>, line <span style=\"color: #008080; text-decoration-color: #008080; font-weight: bold\">21</span>, in inner               <span style=\"color: #7f7f7f; text-decoration-color: #7f7f7f\">                      </span>\n",
       "<span style=\"color: #7fbfbf; text-decoration-color: #7fbfbf\">                    </span>             return <span style=\"color: #800080; text-decoration-color: #800080; font-weight: bold\">f</span><span style=\"font-weight: bold\">(</span>*args, **kwargs<span style=\"font-weight: bold\">)</span>                                                                                            <span style=\"color: #7f7f7f; text-decoration-color: #7f7f7f\">                      </span>\n",
       "<span style=\"color: #7fbfbf; text-decoration-color: #7fbfbf\">                    </span>           File <span style=\"color: #008000; text-decoration-color: #008000\">\"/var/folders/1_/71dqv9vx2750gmyz77q_f45w0000gn/T/ipykernel_19659/580638143.py\"</span>, line <span style=\"color: #008080; text-decoration-color: #008080; font-weight: bold\">3</span>, in do                    <span style=\"color: #7f7f7f; text-decoration-color: #7f7f7f\">                      </span>\n",
       "<span style=\"color: #7fbfbf; text-decoration-color: #7fbfbf\">                    </span>             return <span style=\"color: #008080; text-decoration-color: #008080; font-weight: bold\">1</span> <span style=\"color: #800080; text-decoration-color: #800080\">/</span> <span style=\"color: #008080; text-decoration-color: #008080; font-weight: bold\">0</span>                                                                                                         <span style=\"color: #7f7f7f; text-decoration-color: #7f7f7f\">                      </span>\n",
       "<span style=\"color: #7fbfbf; text-decoration-color: #7fbfbf\">                    </span>         ZeroDivisionError: division by zero                                                                                      <span style=\"color: #7f7f7f; text-decoration-color: #7f7f7f\">                      </span>\n",
       "<span style=\"color: #7fbfbf; text-decoration-color: #7fbfbf\">                    </span>                                                                                                                                  <span style=\"color: #7f7f7f; text-decoration-color: #7f7f7f\">                      </span>\n",
       "<span style=\"color: #7fbfbf; text-decoration-color: #7fbfbf\">                    </span>         <span style=\"color: #800000; text-decoration-color: #800000\">╭───────────────────────────────────────── </span><span style=\"color: #800000; text-decoration-color: #800000; font-weight: bold\">Traceback </span><span style=\"color: #bf7f7f; text-decoration-color: #bf7f7f; font-weight: bold\">(most recent call last)</span><span style=\"color: #800000; text-decoration-color: #800000\"> ──────────────────────────────────────────╮</span> <span style=\"color: #7f7f7f; text-decoration-color: #7f7f7f\">                      </span>\n",
       "<span style=\"color: #7fbfbf; text-decoration-color: #7fbfbf\">                    </span>         <span style=\"color: #800000; text-decoration-color: #800000\">│</span> in <span style=\"color: #00ff00; text-decoration-color: #00ff00\">inner</span>:<span style=\"color: #0000ff; text-decoration-color: #0000ff\">21</span>                                                                                                          <span style=\"color: #800000; text-decoration-color: #800000\">│</span> <span style=\"color: #7f7f7f; text-decoration-color: #7f7f7f\">                      </span>\n",
       "<span style=\"color: #7fbfbf; text-decoration-color: #7fbfbf\">                    </span>         <span style=\"color: #800000; text-decoration-color: #800000\">│</span>                                                                                                                      <span style=\"color: #800000; text-decoration-color: #800000\">│</span> <span style=\"color: #7f7f7f; text-decoration-color: #7f7f7f\">                      </span>\n",
       "<span style=\"color: #7fbfbf; text-decoration-color: #7fbfbf\">                    </span>         <span style=\"color: #800000; text-decoration-color: #800000\">│</span>   <span style=\"color: #7f7f7f; text-decoration-color: #7f7f7f\">18 </span><span style=\"color: #7f7f7f; text-decoration-color: #7f7f7f\">│   │   </span>                                                                                                        <span style=\"color: #800000; text-decoration-color: #800000\">│</span> <span style=\"color: #7f7f7f; text-decoration-color: #7f7f7f\">                      </span>\n",
       "<span style=\"color: #7fbfbf; text-decoration-color: #7fbfbf\">                    </span>         <span style=\"color: #800000; text-decoration-color: #800000\">│</span>   <span style=\"color: #7f7f7f; text-decoration-color: #7f7f7f\">19 </span><span style=\"color: #7f7f7f; text-decoration-color: #7f7f7f\">│   │   </span><span style=\"color: #0000ff; text-decoration-color: #0000ff\">def</span> <span style=\"color: #00ff00; text-decoration-color: #00ff00\">inner</span>(*args, **kwargs):                                                                             <span style=\"color: #800000; text-decoration-color: #800000\">│</span> <span style=\"color: #7f7f7f; text-decoration-color: #7f7f7f\">                      </span>\n",
       "<span style=\"color: #7fbfbf; text-decoration-color: #7fbfbf\">                    </span>         <span style=\"color: #800000; text-decoration-color: #800000\">│</span>   <span style=\"color: #7f7f7f; text-decoration-color: #7f7f7f\">20 </span><span style=\"color: #7f7f7f; text-decoration-color: #7f7f7f\">│   │   │   </span><span style=\"color: #0000ff; text-decoration-color: #0000ff\">try</span>:                                                                                                <span style=\"color: #800000; text-decoration-color: #800000\">│</span> <span style=\"color: #7f7f7f; text-decoration-color: #7f7f7f\">                      </span>\n",
       "<span style=\"color: #7fbfbf; text-decoration-color: #7fbfbf\">                    </span>         <span style=\"color: #800000; text-decoration-color: #800000\">│</span> <span style=\"color: #800000; text-decoration-color: #800000\">❱ </span>21 <span style=\"color: #7f7f7f; text-decoration-color: #7f7f7f\">│   │   │   │   </span><span style=\"color: #0000ff; text-decoration-color: #0000ff\">return</span> f(*args, **kwargs)                                                                       <span style=\"color: #800000; text-decoration-color: #800000\">│</span> <span style=\"color: #7f7f7f; text-decoration-color: #7f7f7f\">                      </span>\n",
       "<span style=\"color: #7fbfbf; text-decoration-color: #7fbfbf\">                    </span>         <span style=\"color: #800000; text-decoration-color: #800000\">│</span>   <span style=\"color: #7f7f7f; text-decoration-color: #7f7f7f\">22 </span><span style=\"color: #7f7f7f; text-decoration-color: #7f7f7f\">│   │   │   </span><span style=\"color: #0000ff; text-decoration-color: #0000ff\">except</span> <span style=\"color: #00ffff; text-decoration-color: #00ffff\">Exception</span> <span style=\"color: #0000ff; text-decoration-color: #0000ff\">as</span> e:                                                                              <span style=\"color: #800000; text-decoration-color: #800000\">│</span> <span style=\"color: #7f7f7f; text-decoration-color: #7f7f7f\">                      </span>\n",
       "<span style=\"color: #7fbfbf; text-decoration-color: #7fbfbf\">                    </span>         <span style=\"color: #800000; text-decoration-color: #800000\">│</span>   <span style=\"color: #7f7f7f; text-decoration-color: #7f7f7f\">23 </span><span style=\"color: #7f7f7f; text-decoration-color: #7f7f7f\">│   │   │   │   </span><span style=\"color: #0000ff; text-decoration-color: #0000ff\">if</span> <span style=\"color: #ff00ff; text-decoration-color: #ff00ff\">not</span> silence_errors:                                                                          <span style=\"color: #800000; text-decoration-color: #800000\">│</span> <span style=\"color: #7f7f7f; text-decoration-color: #7f7f7f\">                      </span>\n",
       "<span style=\"color: #7fbfbf; text-decoration-color: #7fbfbf\">                    </span>         <span style=\"color: #800000; text-decoration-color: #800000\">│</span>   <span style=\"color: #7f7f7f; text-decoration-color: #7f7f7f\">24 </span><span style=\"color: #7f7f7f; text-decoration-color: #7f7f7f\">│   │   │   │   │   </span><span style=\"color: #0000ff; text-decoration-color: #0000ff\">if</span> <span style=\"color: #ff00ff; text-decoration-color: #ff00ff\">not</span> print_traceback:                                                                     <span style=\"color: #800000; text-decoration-color: #800000\">│</span> <span style=\"color: #7f7f7f; text-decoration-color: #7f7f7f\">                      </span>\n",
       "<span style=\"color: #7fbfbf; text-decoration-color: #7fbfbf\">                    </span>         <span style=\"color: #800000; text-decoration-color: #800000\">│</span>                                                                                                                      <span style=\"color: #800000; text-decoration-color: #800000\">│</span> <span style=\"color: #7f7f7f; text-decoration-color: #7f7f7f\">                      </span>\n",
       "<span style=\"color: #7fbfbf; text-decoration-color: #7fbfbf\">                    </span>         <span style=\"color: #800000; text-decoration-color: #800000\">│</span> in <span style=\"color: #00ff00; text-decoration-color: #00ff00\">do</span>:<span style=\"color: #0000ff; text-decoration-color: #0000ff\">3</span>                                                                                                              <span style=\"color: #800000; text-decoration-color: #800000\">│</span> <span style=\"color: #7f7f7f; text-decoration-color: #7f7f7f\">                      </span>\n",
       "<span style=\"color: #7fbfbf; text-decoration-color: #7fbfbf\">                    </span>         <span style=\"color: #800000; text-decoration-color: #800000\">│</span>                                                                                                                      <span style=\"color: #800000; text-decoration-color: #800000\">│</span> <span style=\"color: #7f7f7f; text-decoration-color: #7f7f7f\">                      </span>\n",
       "<span style=\"color: #7fbfbf; text-decoration-color: #7fbfbf\">                    </span>         <span style=\"color: #800000; text-decoration-color: #800000\">│</span>   <span style=\"color: #7f7f7f; text-decoration-color: #7f7f7f\">1 </span><span style=\"color: #ff00ff; text-decoration-color: #ff00ff; font-weight: bold\">@tryy</span>(print_traceback=<span style=\"color: #0000ff; text-decoration-color: #0000ff\">True</span>, output_to_return_on_fail=<span style=\"color: #808000; text-decoration-color: #808000\">\"😔\"</span>)                                                       <span style=\"color: #800000; text-decoration-color: #800000\">│</span> <span style=\"color: #7f7f7f; text-decoration-color: #7f7f7f\">                      </span>\n",
       "<span style=\"color: #7fbfbf; text-decoration-color: #7fbfbf\">                    </span>         <span style=\"color: #800000; text-decoration-color: #800000\">│</span>   <span style=\"color: #7f7f7f; text-decoration-color: #7f7f7f\">2 </span><span style=\"color: #0000ff; text-decoration-color: #0000ff\">def</span> <span style=\"color: #00ff00; text-decoration-color: #00ff00\">do</span>(a, b, c):                                                                                                 <span style=\"color: #800000; text-decoration-color: #800000\">│</span> <span style=\"color: #7f7f7f; text-decoration-color: #7f7f7f\">                      </span>\n",
       "<span style=\"color: #7fbfbf; text-decoration-color: #7fbfbf\">                    </span>         <span style=\"color: #800000; text-decoration-color: #800000\">│</span> <span style=\"color: #800000; text-decoration-color: #800000\">❱ </span>3 <span style=\"color: #7f7f7f; text-decoration-color: #7f7f7f\">│   </span><span style=\"color: #0000ff; text-decoration-color: #0000ff\">return</span> <span style=\"color: #0000ff; text-decoration-color: #0000ff\">1</span> / <span style=\"color: #0000ff; text-decoration-color: #0000ff\">0</span>                                                                                                 <span style=\"color: #800000; text-decoration-color: #800000\">│</span> <span style=\"color: #7f7f7f; text-decoration-color: #7f7f7f\">                      </span>\n",
       "<span style=\"color: #7fbfbf; text-decoration-color: #7fbfbf\">                    </span>         <span style=\"color: #800000; text-decoration-color: #800000\">│</span>   <span style=\"color: #7f7f7f; text-decoration-color: #7f7f7f\">4 </span>                                                                                                                 <span style=\"color: #800000; text-decoration-color: #800000\">│</span> <span style=\"color: #7f7f7f; text-decoration-color: #7f7f7f\">                      </span>\n",
       "<span style=\"color: #7fbfbf; text-decoration-color: #7fbfbf\">                    </span>         <span style=\"color: #800000; text-decoration-color: #800000\">│</span>   <span style=\"color: #7f7f7f; text-decoration-color: #7f7f7f\">5 </span>                                                                                                                 <span style=\"color: #800000; text-decoration-color: #800000\">│</span> <span style=\"color: #7f7f7f; text-decoration-color: #7f7f7f\">                      </span>\n",
       "<span style=\"color: #7fbfbf; text-decoration-color: #7fbfbf\">                    </span>         <span style=\"color: #800000; text-decoration-color: #800000\">│</span>   <span style=\"color: #7f7f7f; text-decoration-color: #7f7f7f\">6 </span>do(<span style=\"color: #0000ff; text-decoration-color: #0000ff\">1</span>, <span style=\"color: #0000ff; text-decoration-color: #0000ff\">2</span>, c=<span style=\"color: #0000ff; text-decoration-color: #0000ff\">10</span>)                                                                                                   <span style=\"color: #800000; text-decoration-color: #800000\">│</span> <span style=\"color: #7f7f7f; text-decoration-color: #7f7f7f\">                      </span>\n",
       "<span style=\"color: #7fbfbf; text-decoration-color: #7fbfbf\">                    </span>         <span style=\"color: #800000; text-decoration-color: #800000\">╰──────────────────────────────────────────────────────────────────────────────────────────────────────────────────────╯</span> <span style=\"color: #7f7f7f; text-decoration-color: #7f7f7f\">                      </span>\n",
       "<span style=\"color: #7fbfbf; text-decoration-color: #7fbfbf\">                    </span>         <span style=\"color: #ff0000; text-decoration-color: #ff0000; font-weight: bold\">ZeroDivisionError: </span>division by zero                                                                                      <span style=\"color: #7f7f7f; text-decoration-color: #7f7f7f\">                      </span>\n",
       "</pre>\n"
      ],
      "text/plain": [
       "\u001b[2;36m                   \u001b[0m\u001b[2;36m \u001b[0m\u001b[2;31mWARNING \u001b[0m Error for `do` with                                                                                                      \u001b]8;id=396066;file:///var/folders/1_/71dqv9vx2750gmyz77q_f45w0000gn/T/ipykernel_19659/2770652618.py:34\u001b\\\u001b[2m2770652618.py\u001b[0m\u001b]8;;\u001b\\\u001b[2m:\u001b[0m\u001b]8;id=521148;file:///var/folders/1_/71dqv9vx2750gmyz77q_f45w0000gn/T/ipykernel_19659/2770652618.py:34#inner:34\u001b\\\u001b[2minner:34\u001b[0m\u001b]8;;\u001b\\\n",
       "\u001b[2;36m                    \u001b[0m         \u001b[1;35margs\u001b[0m\u001b[1m(\u001b[0m\u001b[1m)\u001b[0m                                                                                                                   \u001b[2m                      \u001b[0m\n",
       "\u001b[2;36m                    \u001b[0m           \u001b[1;36m0\u001b[0m - \u001b[1;36m1\u001b[0m \u001b[1m(\u001b[0m🏷️ int\u001b[1m)\u001b[0m                                                                                                          \u001b[2m                      \u001b[0m\n",
       "\u001b[2;36m                    \u001b[0m           \u001b[1;36m1\u001b[0m - \u001b[1;36m2\u001b[0m \u001b[1m(\u001b[0m🏷️ int\u001b[1m)\u001b[0m                                                                                                          \u001b[2m                      \u001b[0m\n",
       "\u001b[2;36m                    \u001b[0m         kwargs                                                                                                                   \u001b[2m                      \u001b[0m\n",
       "\u001b[2;36m                    \u001b[0m           c - \u001b[1;36m10\u001b[0m \u001b[1m(\u001b[0m🏷️ int\u001b[1m)\u001b[0m                                                                                                         \u001b[2m                      \u001b[0m\n",
       "\u001b[2;36m                    \u001b[0m                                                                                                                                  \u001b[2m                      \u001b[0m\n",
       "\u001b[2;36m                    \u001b[0m         Traceback \u001b[1m(\u001b[0mmost recent call last\u001b[1m)\u001b[0m:                                                                                       \u001b[2m                      \u001b[0m\n",
       "\u001b[2;36m                    \u001b[0m           File \u001b[32m\"/var/folders/1_/71dqv9vx2750gmyz77q_f45w0000gn/T/ipykernel_19659/2770652618.py\"\u001b[0m, line \u001b[1;36m21\u001b[0m, in inner               \u001b[2m                      \u001b[0m\n",
       "\u001b[2;36m                    \u001b[0m             return \u001b[1;35mf\u001b[0m\u001b[1m(\u001b[0m*args, **kwargs\u001b[1m)\u001b[0m                                                                                            \u001b[2m                      \u001b[0m\n",
       "\u001b[2;36m                    \u001b[0m                    ^^^^^^^^^^^^^^^^^^                                                                                            \u001b[2m                      \u001b[0m\n",
       "\u001b[2;36m                    \u001b[0m           File \u001b[32m\"/var/folders/1_/71dqv9vx2750gmyz77q_f45w0000gn/T/ipykernel_19659/580638143.py\"\u001b[0m, line \u001b[1;36m3\u001b[0m, in do                    \u001b[2m                      \u001b[0m\n",
       "\u001b[2;36m                    \u001b[0m             return \u001b[1;36m1\u001b[0m \u001b[35m/\u001b[0m \u001b[1;36m0\u001b[0m                                                                                                         \u001b[2m                      \u001b[0m\n",
       "\u001b[2;36m                    \u001b[0m                    ~~^~~                                                                                                         \u001b[2m                      \u001b[0m\n",
       "\u001b[2;36m                    \u001b[0m         ZeroDivisionError: division by zero                                                                                      \u001b[2m                      \u001b[0m\n",
       "\u001b[2;36m                    \u001b[0m                                                                                                                                  \u001b[2m                      \u001b[0m\n",
       "\u001b[2;36m                    \u001b[0m         Traceback \u001b[1m(\u001b[0mmost recent call last\u001b[1m)\u001b[0m:                                                                                       \u001b[2m                      \u001b[0m\n",
       "\u001b[2;36m                    \u001b[0m           File \u001b[32m\"/var/folders/1_/71dqv9vx2750gmyz77q_f45w0000gn/T/ipykernel_19659/2770652618.py\"\u001b[0m, line \u001b[1;36m21\u001b[0m, in inner               \u001b[2m                      \u001b[0m\n",
       "\u001b[2;36m                    \u001b[0m             return \u001b[1;35mf\u001b[0m\u001b[1m(\u001b[0m*args, **kwargs\u001b[1m)\u001b[0m                                                                                            \u001b[2m                      \u001b[0m\n",
       "\u001b[2;36m                    \u001b[0m           File \u001b[32m\"/var/folders/1_/71dqv9vx2750gmyz77q_f45w0000gn/T/ipykernel_19659/580638143.py\"\u001b[0m, line \u001b[1;36m3\u001b[0m, in do                    \u001b[2m                      \u001b[0m\n",
       "\u001b[2;36m                    \u001b[0m             return \u001b[1;36m1\u001b[0m \u001b[35m/\u001b[0m \u001b[1;36m0\u001b[0m                                                                                                         \u001b[2m                      \u001b[0m\n",
       "\u001b[2;36m                    \u001b[0m         ZeroDivisionError: division by zero                                                                                      \u001b[2m                      \u001b[0m\n",
       "\u001b[2;36m                    \u001b[0m                                                                                                                                  \u001b[2m                      \u001b[0m\n",
       "\u001b[2;36m                    \u001b[0m         \u001b[31m╭─\u001b[0m\u001b[31m────────────────────────────────────────\u001b[0m\u001b[31m \u001b[0m\u001b[1;31mTraceback \u001b[0m\u001b[1;2;31m(most recent call last)\u001b[0m\u001b[31m \u001b[0m\u001b[31m─────────────────────────────────────────\u001b[0m\u001b[31m─╮\u001b[0m \u001b[2m                      \u001b[0m\n",
       "\u001b[2;36m                    \u001b[0m         \u001b[31m│\u001b[0m in \u001b[92minner\u001b[0m:\u001b[94m21\u001b[0m                                                                                                          \u001b[31m│\u001b[0m \u001b[2m                      \u001b[0m\n",
       "\u001b[2;36m                    \u001b[0m         \u001b[31m│\u001b[0m                                                                                                                      \u001b[31m│\u001b[0m \u001b[2m                      \u001b[0m\n",
       "\u001b[2;36m                    \u001b[0m         \u001b[31m│\u001b[0m   \u001b[2m18 \u001b[0m\u001b[2m│   │   \u001b[0m                                                                                                        \u001b[31m│\u001b[0m \u001b[2m                      \u001b[0m\n",
       "\u001b[2;36m                    \u001b[0m         \u001b[31m│\u001b[0m   \u001b[2m19 \u001b[0m\u001b[2m│   │   \u001b[0m\u001b[94mdef\u001b[0m \u001b[92minner\u001b[0m(*args, **kwargs):                                                                             \u001b[31m│\u001b[0m \u001b[2m                      \u001b[0m\n",
       "\u001b[2;36m                    \u001b[0m         \u001b[31m│\u001b[0m   \u001b[2m20 \u001b[0m\u001b[2m│   │   │   \u001b[0m\u001b[94mtry\u001b[0m:                                                                                                \u001b[31m│\u001b[0m \u001b[2m                      \u001b[0m\n",
       "\u001b[2;36m                    \u001b[0m         \u001b[31m│\u001b[0m \u001b[31m❱ \u001b[0m21 \u001b[2m│   │   │   │   \u001b[0m\u001b[94mreturn\u001b[0m f(*args, **kwargs)                                                                       \u001b[31m│\u001b[0m \u001b[2m                      \u001b[0m\n",
       "\u001b[2;36m                    \u001b[0m         \u001b[31m│\u001b[0m   \u001b[2m22 \u001b[0m\u001b[2m│   │   │   \u001b[0m\u001b[94mexcept\u001b[0m \u001b[96mException\u001b[0m \u001b[94mas\u001b[0m e:                                                                              \u001b[31m│\u001b[0m \u001b[2m                      \u001b[0m\n",
       "\u001b[2;36m                    \u001b[0m         \u001b[31m│\u001b[0m   \u001b[2m23 \u001b[0m\u001b[2m│   │   │   │   \u001b[0m\u001b[94mif\u001b[0m \u001b[95mnot\u001b[0m silence_errors:                                                                          \u001b[31m│\u001b[0m \u001b[2m                      \u001b[0m\n",
       "\u001b[2;36m                    \u001b[0m         \u001b[31m│\u001b[0m   \u001b[2m24 \u001b[0m\u001b[2m│   │   │   │   │   \u001b[0m\u001b[94mif\u001b[0m \u001b[95mnot\u001b[0m print_traceback:                                                                     \u001b[31m│\u001b[0m \u001b[2m                      \u001b[0m\n",
       "\u001b[2;36m                    \u001b[0m         \u001b[31m│\u001b[0m                                                                                                                      \u001b[31m│\u001b[0m \u001b[2m                      \u001b[0m\n",
       "\u001b[2;36m                    \u001b[0m         \u001b[31m│\u001b[0m in \u001b[92mdo\u001b[0m:\u001b[94m3\u001b[0m                                                                                                              \u001b[31m│\u001b[0m \u001b[2m                      \u001b[0m\n",
       "\u001b[2;36m                    \u001b[0m         \u001b[31m│\u001b[0m                                                                                                                      \u001b[31m│\u001b[0m \u001b[2m                      \u001b[0m\n",
       "\u001b[2;36m                    \u001b[0m         \u001b[31m│\u001b[0m   \u001b[2m1 \u001b[0m\u001b[1;95m@tryy\u001b[0m(print_traceback=\u001b[94mTrue\u001b[0m, output_to_return_on_fail=\u001b[33m\"\u001b[0m\u001b[33m😔\u001b[0m\u001b[33m\"\u001b[0m)                                                       \u001b[31m│\u001b[0m \u001b[2m                      \u001b[0m\n",
       "\u001b[2;36m                    \u001b[0m         \u001b[31m│\u001b[0m   \u001b[2m2 \u001b[0m\u001b[94mdef\u001b[0m \u001b[92mdo\u001b[0m(a, b, c):                                                                                                 \u001b[31m│\u001b[0m \u001b[2m                      \u001b[0m\n",
       "\u001b[2;36m                    \u001b[0m         \u001b[31m│\u001b[0m \u001b[31m❱ \u001b[0m3 \u001b[2m│   \u001b[0m\u001b[94mreturn\u001b[0m \u001b[94m1\u001b[0m / \u001b[94m0\u001b[0m                                                                                                 \u001b[31m│\u001b[0m \u001b[2m                      \u001b[0m\n",
       "\u001b[2;36m                    \u001b[0m         \u001b[31m│\u001b[0m   \u001b[2m4 \u001b[0m                                                                                                                 \u001b[31m│\u001b[0m \u001b[2m                      \u001b[0m\n",
       "\u001b[2;36m                    \u001b[0m         \u001b[31m│\u001b[0m   \u001b[2m5 \u001b[0m                                                                                                                 \u001b[31m│\u001b[0m \u001b[2m                      \u001b[0m\n",
       "\u001b[2;36m                    \u001b[0m         \u001b[31m│\u001b[0m   \u001b[2m6 \u001b[0mdo(\u001b[94m1\u001b[0m, \u001b[94m2\u001b[0m, c=\u001b[94m10\u001b[0m)                                                                                                   \u001b[31m│\u001b[0m \u001b[2m                      \u001b[0m\n",
       "\u001b[2;36m                    \u001b[0m         \u001b[31m╰──────────────────────────────────────────────────────────────────────────────────────────────────────────────────────╯\u001b[0m \u001b[2m                      \u001b[0m\n",
       "\u001b[2;36m                    \u001b[0m         \u001b[1;91mZeroDivisionError: \u001b[0mdivision by zero                                                                                      \u001b[2m                      \u001b[0m\n"
      ]
     },
     "metadata": {},
     "output_type": "display_data"
    },
    {
     "data": {
      "text/plain": [
       "'😔'"
      ]
     },
     "execution_count": 15,
     "metadata": {},
     "output_type": "execute_result"
    }
   ],
   "source": [
    "@tryy(print_traceback=True, output_to_return_on_fail=\"😔\")\n",
    "def do(a, b, c):\n",
    "    return 1 / 0\n",
    "\n",
    "\n",
    "do(1, 2, c=10)"
   ]
  },
  {
   "cell_type": "markdown",
   "metadata": {},
   "source": [
    "You can also silence the errors completely"
   ]
  },
  {
   "cell_type": "code",
   "execution_count": 16,
   "metadata": {},
   "outputs": [
    {
     "data": {
      "text/plain": [
       "'😔'"
      ]
     },
     "execution_count": 16,
     "metadata": {},
     "output_type": "execute_result"
    }
   ],
   "source": [
    "@tryy(silence_errors=True, output_to_return_on_fail=\"😔\")\n",
    "def do(a, b, c):\n",
    "    return 1 / 0\n",
    "\n",
    "\n",
    "do(1, 2, c=10)"
   ]
  },
  {
   "cell_type": "markdown",
   "metadata": {},
   "source": [
    "You can collect all your errors in a list"
   ]
  },
  {
   "cell_type": "code",
   "execution_count": 17,
   "metadata": {},
   "outputs": [
    {
     "name": "stdout",
     "output_type": "stream",
     "text": [
      "[\n",
      "```↯ AttrDict ↯\n",
      "func - do (🏷️ str)\n",
      "args()\n",
      "  0 - 1 (🏷️ int)\n",
      "  1 - 4 (🏷️ int)\n",
      "kwargs\n",
      "  c - 56 (🏷️ int)\n",
      "tb - None (🏷️ NoneType)\n",
      "err_type - NotImplementedError (🏷️ str)\n",
      "\n",
      "```\n",
      ", \n",
      "```↯ AttrDict ↯\n",
      "func - do (🏷️ str)\n",
      "args()\n",
      "  0 - 1 (🏷️ int)\n",
      "  1 - 1 (🏷️ int)\n",
      "kwargs\n",
      "  c - 97 (🏷️ int)\n",
      "tb - None (🏷️ NoneType)\n",
      "err_type - ZeroDivisionError (🏷️ str)\n",
      "\n",
      "```\n",
      ", \n",
      "```↯ AttrDict ↯\n",
      "func - do (🏷️ str)\n",
      "args()\n",
      "  0 - 1 (🏷️ int)\n",
      "  1 - 9 (🏷️ int)\n",
      "kwargs\n",
      "  c - 46 (🏷️ int)\n",
      "tb - None (🏷️ NoneType)\n",
      "err_type - ZeroDivisionError (🏷️ str)\n",
      "\n",
      "```\n",
      ", \n",
      "```↯ AttrDict ↯\n",
      "func - do (🏷️ str)\n",
      "args()\n",
      "  0 - 1 (🏷️ int)\n",
      "  1 - 10 (🏷️ int)\n",
      "kwargs\n",
      "  c - 81 (🏷️ int)\n",
      "tb - None (🏷️ NoneType)\n",
      "err_type - ZeroDivisionError (🏷️ str)\n",
      "\n",
      "```\n",
      "]\n"
     ]
    }
   ],
   "source": [
    "import random\n",
    "\n",
    "errors = []\n",
    "\n",
    "\n",
    "@tryy(silence_errors=True, store_errors=errors)\n",
    "def do(a, b, c):\n",
    "    if random.randint(0, 100) < 50:\n",
    "        return 1 / 0\n",
    "    else:\n",
    "        raise NotImplementedError(\"🤔\")\n",
    "\n",
    "\n",
    "for _ in range(4):\n",
    "    do(1, random.randint(0, 10), c=random.randint(0, 100))\n",
    "\n",
    "print(errors)"
   ]
  },
  {
   "cell_type": "markdown",
   "metadata": {},
   "source": [
    "There's onlly one usecase where you would want to send in a list by yourself - when you want to append your errors to an existing list. The sensible default is to always store the errors, especially because this is a debugging tool.\n",
    "\n",
    "Just access all the errors in a dataframe like so"
   ]
  },
  {
   "cell_type": "code",
   "execution_count": 18,
   "metadata": {},
   "outputs": [
    {
     "data": {
      "text/html": [
       "<div>\n",
       "<style scoped>\n",
       "    .dataframe tbody tr th:only-of-type {\n",
       "        vertical-align: middle;\n",
       "    }\n",
       "\n",
       "    .dataframe tbody tr th {\n",
       "        vertical-align: top;\n",
       "    }\n",
       "\n",
       "    .dataframe thead th {\n",
       "        text-align: right;\n",
       "    }\n",
       "</style>\n",
       "<table border=\"1\" class=\"dataframe\">\n",
       "  <thead>\n",
       "    <tr style=\"text-align: right;\">\n",
       "      <th></th>\n",
       "      <th>func</th>\n",
       "      <th>args</th>\n",
       "      <th>kwargs</th>\n",
       "      <th>tb</th>\n",
       "      <th>err_type</th>\n",
       "    </tr>\n",
       "  </thead>\n",
       "  <tbody>\n",
       "    <tr>\n",
       "      <th>0</th>\n",
       "      <td>do</td>\n",
       "      <td>(1, 9)</td>\n",
       "      <td>{'c': 4}</td>\n",
       "      <td>None</td>\n",
       "      <td>ZeroDivisionError</td>\n",
       "    </tr>\n",
       "    <tr>\n",
       "      <th>1</th>\n",
       "      <td>do</td>\n",
       "      <td>(1, 6)</td>\n",
       "      <td>{'c': 61}</td>\n",
       "      <td>None</td>\n",
       "      <td>NotImplementedError</td>\n",
       "    </tr>\n",
       "    <tr>\n",
       "      <th>2</th>\n",
       "      <td>do</td>\n",
       "      <td>(1, 9)</td>\n",
       "      <td>{'c': 1}</td>\n",
       "      <td>None</td>\n",
       "      <td>ZeroDivisionError</td>\n",
       "    </tr>\n",
       "    <tr>\n",
       "      <th>3</th>\n",
       "      <td>do</td>\n",
       "      <td>(1, 3)</td>\n",
       "      <td>{'c': 59}</td>\n",
       "      <td>None</td>\n",
       "      <td>NotImplementedError</td>\n",
       "    </tr>\n",
       "  </tbody>\n",
       "</table>\n",
       "</div>"
      ],
      "text/plain": [
       "  func    args     kwargs    tb             err_type\n",
       "0   do  (1, 9)   {'c': 4}  None    ZeroDivisionError\n",
       "1   do  (1, 6)  {'c': 61}  None  NotImplementedError\n",
       "2   do  (1, 9)   {'c': 1}  None    ZeroDivisionError\n",
       "3   do  (1, 3)  {'c': 59}  None  NotImplementedError"
      ]
     },
     "execution_count": 18,
     "metadata": {},
     "output_type": "execute_result"
    }
   ],
   "source": [
    "import random\n",
    "\n",
    "random.seed(10)\n",
    "\n",
    "\n",
    "@tryy(silence_errors=True)\n",
    "def do(a, b, c):\n",
    "    if c < 50:\n",
    "        return 1 / 0\n",
    "    else:\n",
    "        raise NotImplementedError(\"🤔\")\n",
    "\n",
    "\n",
    "for _ in range(4):\n",
    "    do(1, random.randint(0, 10), c=random.randint(0, 100))\n",
    "\n",
    "do.error_summary()"
   ]
  },
  {
   "cell_type": "markdown",
   "metadata": {},
   "source": [
    "and the actual list of errors like so"
   ]
  },
  {
   "cell_type": "code",
   "execution_count": 19,
   "metadata": {},
   "outputs": [
    {
     "data": {
      "text/plain": [
       "[\n",
       " ```↯ AttrDict ↯\n",
       " func - do (🏷️ str)\n",
       " args()\n",
       "   0 - 1 (🏷️ int)\n",
       "   1 - 9 (🏷️ int)\n",
       " kwargs\n",
       "   c - 4 (🏷️ int)\n",
       " tb - None (🏷️ NoneType)\n",
       " err_type - ZeroDivisionError (🏷️ str)\n",
       " \n",
       " ```,\n",
       " \n",
       " ```↯ AttrDict ↯\n",
       " func - do (🏷️ str)\n",
       " args()\n",
       "   0 - 1 (🏷️ int)\n",
       "   1 - 6 (🏷️ int)\n",
       " kwargs\n",
       "   c - 61 (🏷️ int)\n",
       " tb - None (🏷️ NoneType)\n",
       " err_type - NotImplementedError (🏷️ str)\n",
       " \n",
       " ```,\n",
       " \n",
       " ```↯ AttrDict ↯\n",
       " func - do (🏷️ str)\n",
       " args()\n",
       "   0 - 1 (🏷️ int)\n",
       "   1 - 9 (🏷️ int)\n",
       " kwargs\n",
       "   c - 1 (🏷️ int)\n",
       " tb - None (🏷️ NoneType)\n",
       " err_type - ZeroDivisionError (🏷️ str)\n",
       " \n",
       " ```,\n",
       " \n",
       " ```↯ AttrDict ↯\n",
       " func - do (🏷️ str)\n",
       " args()\n",
       "   0 - 1 (🏷️ int)\n",
       "   1 - 3 (🏷️ int)\n",
       " kwargs\n",
       "   c - 59 (🏷️ int)\n",
       " tb - None (🏷️ NoneType)\n",
       " err_type - NotImplementedError (🏷️ str)\n",
       " \n",
       " ```]"
      ]
     },
     "execution_count": 19,
     "metadata": {},
     "output_type": "execute_result"
    }
   ],
   "source": [
    "do.error_store"
   ]
  },
  {
   "cell_type": "markdown",
   "metadata": {},
   "source": [
    "Finally, you want to run the function (without try) to reproduce the error and actually start debugging. Just use the `.F` attribute to access the original function that you created"
   ]
  },
  {
   "cell_type": "code",
   "execution_count": 20,
   "metadata": {},
   "outputs": [
    {
     "name": "stdout",
     "output_type": "stream",
     "text": [
      "ERROR:  division by zero\n"
     ]
    }
   ],
   "source": [
    "ix = 2\n",
    "data = do.error_store[ix]\n",
    "try:\n",
    "    do.F(*data.args, **data.kwargs)\n",
    "except Exception as e:\n",
    "    print(f\"ERROR: \", e)"
   ]
  },
  {
   "cell_type": "code",
   "execution_count": 21,
   "metadata": {},
   "outputs": [],
   "source": [
    "# | hide\n",
    "def deco(decorator):\n",
    "    @wraps(decorator)\n",
    "    def wrapper(*args, **kwargs):\n",
    "        def real_decorator(func):\n",
    "            @wraps(func)\n",
    "            def inner_wrapper(*fargs, **fkwargs):\n",
    "                return decorator(func, *fargs, **fkwargs)\n",
    "\n",
    "            return inner_wrapper\n",
    "\n",
    "        if len(args) == 1 and callable(args[0]) and not kwargs:\n",
    "            # Case when B is used without arguments\n",
    "            return real_decorator(args[0])\n",
    "        else:\n",
    "            # Case when B is used with arguments\n",
    "            def custom_decorator(func):\n",
    "                return decorator(func, **kwargs)\n",
    "\n",
    "            return custom_decorator\n",
    "\n",
    "    return wrapper"
   ]
  },
  {
   "cell_type": "code",
   "execution_count": 22,
   "metadata": {},
   "outputs": [],
   "source": [
    "# | hide\n",
    "@deco\n",
    "def B(func, *args, deco_param=\"default\", **kwargs):\n",
    "    print(\"B\", deco_param, print(\"args\", *args, \"kwargs\", **kwargs))\n",
    "    return func(*args, **kwargs)"
   ]
  },
  {
   "cell_type": "code",
   "execution_count": 23,
   "metadata": {},
   "outputs": [
    {
     "name": "stdout",
     "output_type": "stream",
     "text": [
      "args 1 2 3 kwargs\n",
      "B default None\n",
      "C\n"
     ]
    },
    {
     "data": {
      "text/plain": [
       "7"
      ]
     },
     "execution_count": 23,
     "metadata": {},
     "output_type": "execute_result"
    }
   ],
   "source": [
    "# | hide\n",
    "@B\n",
    "def C(a, b, c):\n",
    "    print(\"C\")\n",
    "    return a + (b * c)\n",
    "\n",
    "\n",
    "C(1, 2, 3)"
   ]
  },
  {
   "cell_type": "code",
   "execution_count": 24,
   "metadata": {},
   "outputs": [],
   "source": [
    "# | hide\n",
    "# @B(deco_param=\"new_param\")\n",
    "# def C(a, b, c):\n",
    "#     return a + (b * c)\n",
    "\n",
    "\n",
    "# try:\n",
    "#     print(C(1, 2, 3))  # Outputs 'new_param' then the result 7\n",
    "# except Exception as e:\n",
    "#     print(e)\n",
    "\n",
    "# # Testing"
   ]
  },
  {
   "cell_type": "markdown",
   "metadata": {},
   "source": [
    "---"
   ]
  },
  {
   "cell_type": "code",
   "execution_count": null,
   "metadata": {},
   "outputs": [],
   "source": []
  }
 ],
 "metadata": {
  "kernelspec": {
   "display_name": "Python 3 (ipykernel)",
   "language": "python",
   "name": "python3"
  },
  "language_info": {
   "codemirror_mode": {
    "name": "ipython",
    "version": 3
   },
   "file_extension": ".py",
   "mimetype": "text/x-python",
   "name": "python",
   "nbconvert_exporter": "python",
   "pygments_lexer": "ipython3",
   "version": "3.12.4"
  },
  "vscode": {
   "interpreter": {
    "hash": "6b6ea07c3428539b6f2e73b58ccfbe441e6932da93cb0b63ea798c577834408a"
   }
  }
 },
 "nbformat": 4,
 "nbformat_minor": 4
}
